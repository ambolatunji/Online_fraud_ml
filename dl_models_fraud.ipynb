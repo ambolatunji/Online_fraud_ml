{
 "cells": [
  {
   "cell_type": "markdown",
   "id": "c7e9c56b",
   "metadata": {},
   "source": [
    "#  Online Fraud Detection - Deep Learning Models\n",
    "This notebook trains 4 deep learning models and an ensemble model to detect online fraudulent transactions."
   ]
  },
  {
   "cell_type": "markdown",
   "id": "b907ddb8",
   "metadata": {},
   "source": [
    "##  Step 1: Load and Preprocess Data"
   ]
  },
  {
   "cell_type": "code",
   "execution_count": 10,
   "id": "c73482b7",
   "metadata": {},
   "outputs": [
    {
     "data": {
      "application/vnd.microsoft.datawrangler.viewer.v0+json": {
       "columns": [
        {
         "name": "index",
         "rawType": "int64",
         "type": "integer"
        },
        {
         "name": "step",
         "rawType": "int64",
         "type": "integer"
        },
        {
         "name": "type",
         "rawType": "int64",
         "type": "integer"
        },
        {
         "name": "amount",
         "rawType": "float64",
         "type": "float"
        },
        {
         "name": "nameOrig",
         "rawType": "object",
         "type": "string"
        },
        {
         "name": "oldbalanceOrg",
         "rawType": "float64",
         "type": "float"
        },
        {
         "name": "newbalanceOrig",
         "rawType": "float64",
         "type": "float"
        },
        {
         "name": "nameDest",
         "rawType": "object",
         "type": "string"
        },
        {
         "name": "oldbalanceDest",
         "rawType": "float64",
         "type": "float"
        },
        {
         "name": "newbalanceDest",
         "rawType": "float64",
         "type": "float"
        },
        {
         "name": "isFraud",
         "rawType": "int64",
         "type": "integer"
        },
        {
         "name": "isFlaggedFraud",
         "rawType": "int64",
         "type": "integer"
        },
        {
         "name": "balance_diff_org",
         "rawType": "float64",
         "type": "float"
        },
        {
         "name": "balance_diff_dest",
         "rawType": "float64",
         "type": "float"
        },
        {
         "name": "amount_diff_org",
         "rawType": "float64",
         "type": "float"
        },
        {
         "name": "amount_diff_dest",
         "rawType": "float64",
         "type": "float"
        },
        {
         "name": "txn_ratio",
         "rawType": "float64",
         "type": "float"
        },
        {
         "name": "is_sender_zero_bal",
         "rawType": "int64",
         "type": "integer"
        },
        {
         "name": "is_receiver_zero_before",
         "rawType": "int64",
         "type": "integer"
        },
        {
         "name": "is_receiver_exact_amount",
         "rawType": "int64",
         "type": "integer"
        },
        {
         "name": "is_large_txn",
         "rawType": "int64",
         "type": "integer"
        },
        {
         "name": "org_to_dest_same",
         "rawType": "int64",
         "type": "integer"
        },
        {
         "name": "sender_is_customer",
         "rawType": "int64",
         "type": "integer"
        },
        {
         "name": "receiver_is_customer",
         "rawType": "int64",
         "type": "integer"
        },
        {
         "name": "receiver_is_merchant",
         "rawType": "int64",
         "type": "integer"
        },
        {
         "name": "risk_combo",
         "rawType": "int64",
         "type": "integer"
        },
        {
         "name": "hour",
         "rawType": "int64",
         "type": "integer"
        },
        {
         "name": "is_night",
         "rawType": "int64",
         "type": "integer"
        }
       ],
       "conversionMethod": "pd.DataFrame",
       "ref": "2584c33c-e9d4-4c26-9242-f47d24e9d5b0",
       "rows": [
        [
         "0",
         "1",
         "3",
         "9839.64",
         "C1231006815",
         "170136.0",
         "160296.36",
         "M1979787155",
         "0.0",
         "0.0",
         "0",
         "0",
         "9839.640000000014",
         "0.0",
         "-1.4551915228366852e-11",
         "9839.64",
         "0.0578339681196219",
         "0",
         "1",
         "0",
         "0",
         "0",
         "1",
         "0",
         "1",
         "0",
         "1",
         "1"
        ],
        [
         "1",
         "1",
         "3",
         "1864.28",
         "C1666544295",
         "21249.0",
         "19384.72",
         "M2044282225",
         "0.0",
         "0.0",
         "0",
         "0",
         "1864.2799999999988",
         "0.0",
         "1.1368683772161605e-12",
         "1864.28",
         "0.0877349522330462",
         "0",
         "1",
         "0",
         "0",
         "0",
         "1",
         "0",
         "1",
         "0",
         "1",
         "1"
        ],
        [
         "2",
         "1",
         "4",
         "181.0",
         "C1305486145",
         "181.0",
         "0.0",
         "C553264065",
         "0.0",
         "0.0",
         "1",
         "0",
         "181.0",
         "0.0",
         "0.0",
         "181.0",
         "1.0",
         "0",
         "1",
         "0",
         "0",
         "0",
         "1",
         "1",
         "0",
         "0",
         "1",
         "1"
        ],
        [
         "3",
         "1",
         "1",
         "181.0",
         "C840083671",
         "181.0",
         "0.0",
         "C38997010",
         "21182.0",
         "0.0",
         "1",
         "0",
         "181.0",
         "-21182.0",
         "0.0",
         "21363.0",
         "1.0",
         "0",
         "0",
         "0",
         "0",
         "0",
         "1",
         "1",
         "0",
         "0",
         "1",
         "1"
        ],
        [
         "4",
         "1",
         "3",
         "11668.14",
         "C2048537720",
         "41554.0",
         "29885.86",
         "M1230701703",
         "0.0",
         "0.0",
         "0",
         "0",
         "11668.14",
         "0.0",
         "0.0",
         "11668.14",
         "0.2807946286759397",
         "0",
         "1",
         "0",
         "0",
         "0",
         "1",
         "0",
         "1",
         "0",
         "1",
         "1"
        ]
       ],
       "shape": {
        "columns": 27,
        "rows": 5
       }
      },
      "text/html": [
       "<div>\n",
       "<style scoped>\n",
       "    .dataframe tbody tr th:only-of-type {\n",
       "        vertical-align: middle;\n",
       "    }\n",
       "\n",
       "    .dataframe tbody tr th {\n",
       "        vertical-align: top;\n",
       "    }\n",
       "\n",
       "    .dataframe thead th {\n",
       "        text-align: right;\n",
       "    }\n",
       "</style>\n",
       "<table border=\"1\" class=\"dataframe\">\n",
       "  <thead>\n",
       "    <tr style=\"text-align: right;\">\n",
       "      <th></th>\n",
       "      <th>step</th>\n",
       "      <th>type</th>\n",
       "      <th>amount</th>\n",
       "      <th>nameOrig</th>\n",
       "      <th>oldbalanceOrg</th>\n",
       "      <th>newbalanceOrig</th>\n",
       "      <th>nameDest</th>\n",
       "      <th>oldbalanceDest</th>\n",
       "      <th>newbalanceDest</th>\n",
       "      <th>isFraud</th>\n",
       "      <th>...</th>\n",
       "      <th>is_receiver_zero_before</th>\n",
       "      <th>is_receiver_exact_amount</th>\n",
       "      <th>is_large_txn</th>\n",
       "      <th>org_to_dest_same</th>\n",
       "      <th>sender_is_customer</th>\n",
       "      <th>receiver_is_customer</th>\n",
       "      <th>receiver_is_merchant</th>\n",
       "      <th>risk_combo</th>\n",
       "      <th>hour</th>\n",
       "      <th>is_night</th>\n",
       "    </tr>\n",
       "  </thead>\n",
       "  <tbody>\n",
       "    <tr>\n",
       "      <th>0</th>\n",
       "      <td>1</td>\n",
       "      <td>3</td>\n",
       "      <td>9839.64</td>\n",
       "      <td>C1231006815</td>\n",
       "      <td>170136.0</td>\n",
       "      <td>160296.36</td>\n",
       "      <td>M1979787155</td>\n",
       "      <td>0.0</td>\n",
       "      <td>0.0</td>\n",
       "      <td>0</td>\n",
       "      <td>...</td>\n",
       "      <td>1</td>\n",
       "      <td>0</td>\n",
       "      <td>0</td>\n",
       "      <td>0</td>\n",
       "      <td>1</td>\n",
       "      <td>0</td>\n",
       "      <td>1</td>\n",
       "      <td>0</td>\n",
       "      <td>1</td>\n",
       "      <td>1</td>\n",
       "    </tr>\n",
       "    <tr>\n",
       "      <th>1</th>\n",
       "      <td>1</td>\n",
       "      <td>3</td>\n",
       "      <td>1864.28</td>\n",
       "      <td>C1666544295</td>\n",
       "      <td>21249.0</td>\n",
       "      <td>19384.72</td>\n",
       "      <td>M2044282225</td>\n",
       "      <td>0.0</td>\n",
       "      <td>0.0</td>\n",
       "      <td>0</td>\n",
       "      <td>...</td>\n",
       "      <td>1</td>\n",
       "      <td>0</td>\n",
       "      <td>0</td>\n",
       "      <td>0</td>\n",
       "      <td>1</td>\n",
       "      <td>0</td>\n",
       "      <td>1</td>\n",
       "      <td>0</td>\n",
       "      <td>1</td>\n",
       "      <td>1</td>\n",
       "    </tr>\n",
       "    <tr>\n",
       "      <th>2</th>\n",
       "      <td>1</td>\n",
       "      <td>4</td>\n",
       "      <td>181.00</td>\n",
       "      <td>C1305486145</td>\n",
       "      <td>181.0</td>\n",
       "      <td>0.00</td>\n",
       "      <td>C553264065</td>\n",
       "      <td>0.0</td>\n",
       "      <td>0.0</td>\n",
       "      <td>1</td>\n",
       "      <td>...</td>\n",
       "      <td>1</td>\n",
       "      <td>0</td>\n",
       "      <td>0</td>\n",
       "      <td>0</td>\n",
       "      <td>1</td>\n",
       "      <td>1</td>\n",
       "      <td>0</td>\n",
       "      <td>0</td>\n",
       "      <td>1</td>\n",
       "      <td>1</td>\n",
       "    </tr>\n",
       "    <tr>\n",
       "      <th>3</th>\n",
       "      <td>1</td>\n",
       "      <td>1</td>\n",
       "      <td>181.00</td>\n",
       "      <td>C840083671</td>\n",
       "      <td>181.0</td>\n",
       "      <td>0.00</td>\n",
       "      <td>C38997010</td>\n",
       "      <td>21182.0</td>\n",
       "      <td>0.0</td>\n",
       "      <td>1</td>\n",
       "      <td>...</td>\n",
       "      <td>0</td>\n",
       "      <td>0</td>\n",
       "      <td>0</td>\n",
       "      <td>0</td>\n",
       "      <td>1</td>\n",
       "      <td>1</td>\n",
       "      <td>0</td>\n",
       "      <td>0</td>\n",
       "      <td>1</td>\n",
       "      <td>1</td>\n",
       "    </tr>\n",
       "    <tr>\n",
       "      <th>4</th>\n",
       "      <td>1</td>\n",
       "      <td>3</td>\n",
       "      <td>11668.14</td>\n",
       "      <td>C2048537720</td>\n",
       "      <td>41554.0</td>\n",
       "      <td>29885.86</td>\n",
       "      <td>M1230701703</td>\n",
       "      <td>0.0</td>\n",
       "      <td>0.0</td>\n",
       "      <td>0</td>\n",
       "      <td>...</td>\n",
       "      <td>1</td>\n",
       "      <td>0</td>\n",
       "      <td>0</td>\n",
       "      <td>0</td>\n",
       "      <td>1</td>\n",
       "      <td>0</td>\n",
       "      <td>1</td>\n",
       "      <td>0</td>\n",
       "      <td>1</td>\n",
       "      <td>1</td>\n",
       "    </tr>\n",
       "  </tbody>\n",
       "</table>\n",
       "<p>5 rows × 27 columns</p>\n",
       "</div>"
      ],
      "text/plain": [
       "   step  type    amount     nameOrig  oldbalanceOrg  newbalanceOrig  \\\n",
       "0     1     3   9839.64  C1231006815       170136.0       160296.36   \n",
       "1     1     3   1864.28  C1666544295        21249.0        19384.72   \n",
       "2     1     4    181.00  C1305486145          181.0            0.00   \n",
       "3     1     1    181.00   C840083671          181.0            0.00   \n",
       "4     1     3  11668.14  C2048537720        41554.0        29885.86   \n",
       "\n",
       "      nameDest  oldbalanceDest  newbalanceDest  isFraud  ...  \\\n",
       "0  M1979787155             0.0             0.0        0  ...   \n",
       "1  M2044282225             0.0             0.0        0  ...   \n",
       "2   C553264065             0.0             0.0        1  ...   \n",
       "3    C38997010         21182.0             0.0        1  ...   \n",
       "4  M1230701703             0.0             0.0        0  ...   \n",
       "\n",
       "   is_receiver_zero_before  is_receiver_exact_amount  is_large_txn  \\\n",
       "0                        1                         0             0   \n",
       "1                        1                         0             0   \n",
       "2                        1                         0             0   \n",
       "3                        0                         0             0   \n",
       "4                        1                         0             0   \n",
       "\n",
       "   org_to_dest_same  sender_is_customer  receiver_is_customer  \\\n",
       "0                 0                   1                     0   \n",
       "1                 0                   1                     0   \n",
       "2                 0                   1                     1   \n",
       "3                 0                   1                     1   \n",
       "4                 0                   1                     0   \n",
       "\n",
       "   receiver_is_merchant  risk_combo  hour  is_night  \n",
       "0                     1           0     1         1  \n",
       "1                     1           0     1         1  \n",
       "2                     0           0     1         1  \n",
       "3                     0           0     1         1  \n",
       "4                     1           0     1         1  \n",
       "\n",
       "[5 rows x 27 columns]"
      ]
     },
     "execution_count": 10,
     "metadata": {},
     "output_type": "execute_result"
    }
   ],
   "source": [
    "import pandas as pd\n",
    "from sklearn.model_selection import train_test_split\n",
    "from sklearn.preprocessing import StandardScaler\n",
    "import numpy as np\n",
    "\n",
    "# Load dataset\n",
    "df = pd.read_csv(\"enhanced_online_fraud_dataset.csv\")\n",
    "df.head()\n",
    "\n"
   ]
  },
  {
   "cell_type": "code",
   "execution_count": null,
   "id": "6c57ab72",
   "metadata": {},
   "outputs": [
    {
     "ename": "",
     "evalue": "",
     "output_type": "error",
     "traceback": [
      "\u001b[1;31mnotebook controller is DISPOSED. \n",
      "\u001b[1;31mView Jupyter <a href='command:jupyter.viewOutput'>log</a> for further details."
     ]
    }
   ],
   "source": [
    "# Prepare features and labels\n",
    "X = df.drop(columns=['isFraud', 'nameOrig', 'nameDest', 'step'])\n",
    "y = df['isFraud']\n",
    "\n",
    "# Split and scale\n",
    "X_train, X_test, y_train, y_test = train_test_split(X, y, stratify=y, test_size=0.2, random_state=42)\n",
    "scaler = StandardScaler()\n",
    "X_train_scaled = scaler.fit_transform(X_train)\n",
    "X_test_scaled = scaler.transform(X_test)\n",
    "\n",
    "# Convert to tensors\n",
    "import tensorflow as tf\n",
    "X_train_tf = tf.convert_to_tensor(X_train_scaled, dtype=tf.float32)\n",
    "X_test_tf = tf.convert_to_tensor(X_test_scaled, dtype=tf.float32)\n",
    "y_train_tf = tf.convert_to_tensor(y_train.values, dtype=tf.float32)\n",
    "y_test_tf = tf.convert_to_tensor(y_test.values, dtype=tf.float32)"
   ]
  },
  {
   "cell_type": "markdown",
   "id": "b755263c",
   "metadata": {},
   "source": [
    "## Step 2: Build Deep Learning Models"
   ]
  },
  {
   "cell_type": "code",
   "execution_count": null,
   "id": "41bb42ab",
   "metadata": {},
   "outputs": [
    {
     "ename": "",
     "evalue": "",
     "output_type": "error",
     "traceback": [
      "\u001b[1;31mnotebook controller is DISPOSED. \n",
      "\u001b[1;31mView Jupyter <a href='command:jupyter.viewOutput'>log</a> for further details."
     ]
    }
   ],
   "source": [
    "from tensorflow.keras.models import Sequential\n",
    "from tensorflow.keras.layers import Dense, Dropout, BatchNormalization, LSTM, Bidirectional\n",
    "from tensorflow.keras.callbacks import EarlyStopping\n",
    "\n",
    "input_dim = X_train.shape[1]\n",
    "early_stop = EarlyStopping(monitor='val_loss', patience=3, restore_best_weights=True)\n",
    "\n",
    "# Model 1: Simple MLP\n",
    "def build_simple_mlp():\n",
    "    model = Sequential([\n",
    "        Dense(64, activation='relu', input_shape=(input_dim,)),\n",
    "        Dense(32, activation='relu'),\n",
    "        Dense(1, activation='sigmoid')\n",
    "    ])\n",
    "    model.compile(optimizer='adam', loss='binary_crossentropy', metrics=['accuracy'])\n",
    "    return model\n",
    "\n",
    "# Model 2: MLP with Dropout\n",
    "def build_dropout_mlp():\n",
    "    model = Sequential([\n",
    "        Dense(128, activation='relu', input_shape=(input_dim,)),\n",
    "        Dropout(0.5),\n",
    "        Dense(64, activation='relu'),\n",
    "        Dropout(0.3),\n",
    "        Dense(1, activation='sigmoid')\n",
    "    ])\n",
    "    model.compile(optimizer='adam', loss='binary_crossentropy', metrics=['accuracy'])\n",
    "    return model\n",
    "\n",
    "# Model 3: MLP with Batch Normalization\n",
    "def build_batchnorm_mlp():\n",
    "    model = Sequential([\n",
    "        Dense(128, input_shape=(input_dim,)),\n",
    "        BatchNormalization(),\n",
    "        tf.keras.layers.ReLU(),\n",
    "        Dense(64),\n",
    "        BatchNormalization(),\n",
    "        tf.keras.layers.ReLU(),\n",
    "        Dense(1, activation='sigmoid')\n",
    "    ])\n",
    "    model.compile(optimizer='adam', loss='binary_crossentropy', metrics=['accuracy'])\n",
    "    return model\n",
    "\n",
    "# Model 4: BiLSTM (optional sequence modeling)\n",
    "def build_lstm_model():\n",
    "    model = Sequential([\n",
    "        tf.keras.layers.Reshape((input_dim, 1), input_shape=(input_dim,)),\n",
    "        Bidirectional(LSTM(32)),\n",
    "        Dense(1, activation='sigmoid')\n",
    "    ])\n",
    "    model.compile(optimizer='adam', loss='binary_crossentropy', metrics=['accuracy'])\n",
    "    return model"
   ]
  },
  {
   "cell_type": "markdown",
   "id": "9ee22474",
   "metadata": {},
   "source": [
    "## Step 3: Train All Models"
   ]
  },
  {
   "cell_type": "code",
   "execution_count": null,
   "id": "5e3df8f3",
   "metadata": {},
   "outputs": [
    {
     "name": "stdout",
     "output_type": "stream",
     "text": [
      "\n",
      "📌 Training: Simple MLP\n",
      "Epoch 1/5\n",
      "15907/15907 [==============================] - 36s 2ms/step - loss: 0.0034 - accuracy: 0.9995 - val_loss: 0.0020 - val_accuracy: 0.9996\n",
      "Epoch 2/5\n",
      "15907/15907 [==============================] - 36s 2ms/step - loss: 0.0018 - accuracy: 0.9996 - val_loss: 0.0020 - val_accuracy: 0.9996\n",
      "Epoch 3/5\n",
      "15907/15907 [==============================] - 33s 2ms/step - loss: 0.0017 - accuracy: 0.9997 - val_loss: 0.0017 - val_accuracy: 0.9997\n",
      "Epoch 4/5\n",
      "15907/15907 [==============================] - 28s 2ms/step - loss: 0.0016 - accuracy: 0.9997 - val_loss: 0.0016 - val_accuracy: 0.9997\n",
      "Epoch 5/5\n",
      "15907/15907 [==============================] - 45s 3ms/step - loss: 0.0016 - accuracy: 0.9997 - val_loss: 0.0017 - val_accuracy: 0.9997\n",
      "\n",
      "📌 Training: Dropout MLP\n",
      "Epoch 1/5\n",
      "15907/15907 [==============================] - 90s 6ms/step - loss: 0.0038 - accuracy: 0.9993 - val_loss: 0.0022 - val_accuracy: 0.9996\n",
      "Epoch 2/5\n",
      "15907/15907 [==============================] - 81s 5ms/step - loss: 0.0023 - accuracy: 0.9996 - val_loss: 0.0022 - val_accuracy: 0.9996\n",
      "Epoch 3/5\n",
      "15907/15907 [==============================] - 114s 7ms/step - loss: 0.0022 - accuracy: 0.9996 - val_loss: 0.0020 - val_accuracy: 0.9996\n",
      "Epoch 4/5\n",
      "15907/15907 [==============================] - 122s 8ms/step - loss: 0.0021 - accuracy: 0.9996 - val_loss: 0.0021 - val_accuracy: 0.9996\n",
      "Epoch 5/5\n",
      "15907/15907 [==============================] - 115s 7ms/step - loss: 0.0021 - accuracy: 0.9996 - val_loss: 0.0022 - val_accuracy: 0.9996\n",
      "\n",
      "📌 Training: BatchNorm MLP\n",
      "Epoch 1/5\n",
      "15907/15907 [==============================] - 125s 8ms/step - loss: 0.0033 - accuracy: 0.9995 - val_loss: 0.0027 - val_accuracy: 0.9995\n",
      "Epoch 2/5\n",
      "15907/15907 [==============================] - 111s 7ms/step - loss: 0.0018 - accuracy: 0.9996 - val_loss: 0.0018 - val_accuracy: 0.9996\n",
      "Epoch 3/5\n",
      "15907/15907 [==============================] - 110s 7ms/step - loss: 0.0017 - accuracy: 0.9996 - val_loss: 0.0020 - val_accuracy: 0.9996\n",
      "Epoch 4/5\n",
      "15907/15907 [==============================] - 108s 7ms/step - loss: 0.0016 - accuracy: 0.9996 - val_loss: 0.0019 - val_accuracy: 0.9996\n",
      "Epoch 5/5\n",
      "15907/15907 [==============================] - 125s 8ms/step - loss: 0.0016 - accuracy: 0.9997 - val_loss: 0.0021 - val_accuracy: 0.9995\n",
      "\n",
      "📌 Training: BiLSTM\n",
      "Epoch 1/5\n",
      "15907/15907 [==============================] - 611s 38ms/step - loss: 0.0054 - accuracy: 0.9991 - val_loss: 0.0021 - val_accuracy: 0.9996\n",
      "Epoch 2/5\n",
      "15907/15907 [==============================] - 870s 55ms/step - loss: 0.0021 - accuracy: 0.9996 - val_loss: 0.0021 - val_accuracy: 0.9996\n",
      "Epoch 3/5\n",
      "15907/15907 [==============================] - 1014s 64ms/step - loss: 0.0019 - accuracy: 0.9996 - val_loss: 0.0019 - val_accuracy: 0.9996\n",
      "Epoch 4/5\n",
      "15907/15907 [==============================] - 633s 40ms/step - loss: 0.0018 - accuracy: 0.9996 - val_loss: 0.0018 - val_accuracy: 0.9996\n",
      "Epoch 5/5\n",
      "15907/15907 [==============================] - 527s 33ms/step - loss: 0.0017 - accuracy: 0.9996 - val_loss: 0.0017 - val_accuracy: 0.9996\n"
     ]
    },
    {
     "ename": "",
     "evalue": "",
     "output_type": "error",
     "traceback": [
      "\u001b[1;31mnotebook controller is DISPOSED. \n",
      "\u001b[1;31mView Jupyter <a href='command:jupyter.viewOutput'>log</a> for further details."
     ]
    }
   ],
   "source": [
    "models = {\n",
    "    'Simple MLP': build_simple_mlp(),\n",
    "    'Dropout MLP': build_dropout_mlp(),\n",
    "    'BatchNorm MLP': build_batchnorm_mlp(),\n",
    "    'BiLSTM': build_lstm_model()\n",
    "}\n",
    "\n",
    "history = {}\n",
    "for name, model in models.items():\n",
    "    print(f\"\\n📌 Training: {name}\")\n",
    "    hist = model.fit(X_train_tf, y_train_tf, validation_split=0.2, epochs=5, batch_size=256, callbacks=[early_stop], verbose=1)\n",
    "    history[name] = hist"
   ]
  },
  {
   "cell_type": "markdown",
   "id": "8ca5e40b",
   "metadata": {},
   "source": [
    "## Step 4: Evaluate Models"
   ]
  },
  {
   "cell_type": "code",
   "execution_count": null,
   "id": "03772011",
   "metadata": {},
   "outputs": [
    {
     "name": "stdout",
     "output_type": "stream",
     "text": [
      "39767/39767 [==============================] - 131s 3ms/step\n",
      "\n",
      "📌 Simple MLP\n",
      "              precision    recall  f1-score   support\n",
      "\n",
      "           0       1.00      1.00      1.00   1270881\n",
      "           1       0.98      0.77      0.86      1643\n",
      "\n",
      "    accuracy                           1.00   1272524\n",
      "   macro avg       0.99      0.89      0.93   1272524\n",
      "weighted avg       1.00      1.00      1.00   1272524\n",
      "\n",
      "ROC AUC: 0.9980663310120185\n",
      "39767/39767 [==============================] - 138s 3ms/step\n",
      "\n",
      "📌 Dropout MLP\n",
      "              precision    recall  f1-score   support\n",
      "\n",
      "           0       1.00      1.00      1.00   1270881\n",
      "           1       0.98      0.74      0.84      1643\n",
      "\n",
      "    accuracy                           1.00   1272524\n",
      "   macro avg       0.99      0.87      0.92   1272524\n",
      "weighted avg       1.00      1.00      1.00   1272524\n",
      "\n",
      "ROC AUC: 0.9969519579552686\n",
      "39767/39767 [==============================] - 178s 4ms/step\n",
      "\n",
      "📌 BatchNorm MLP\n",
      "              precision    recall  f1-score   support\n",
      "\n",
      "           0       1.00      1.00      1.00   1270881\n",
      "           1       0.98      0.72      0.83      1643\n",
      "\n",
      "    accuracy                           1.00   1272524\n",
      "   macro avg       0.99      0.86      0.92   1272524\n",
      "weighted avg       1.00      1.00      1.00   1272524\n",
      "\n",
      "ROC AUC: 0.9977935537993999\n",
      "39767/39767 [==============================] - 371s 9ms/step\n",
      "\n",
      "📌 BiLSTM\n",
      "              precision    recall  f1-score   support\n",
      "\n",
      "           0       1.00      1.00      1.00   1270881\n",
      "           1       0.94      0.77      0.84      1643\n",
      "\n",
      "    accuracy                           1.00   1272524\n",
      "   macro avg       0.97      0.88      0.92   1272524\n",
      "weighted avg       1.00      1.00      1.00   1272524\n",
      "\n",
      "ROC AUC: 0.9972939030433772\n"
     ]
    },
    {
     "ename": "",
     "evalue": "",
     "output_type": "error",
     "traceback": [
      "\u001b[1;31mnotebook controller is DISPOSED. \n",
      "\u001b[1;31mView Jupyter <a href='command:jupyter.viewOutput'>log</a> for further details."
     ]
    }
   ],
   "source": [
    "from sklearn.metrics import classification_report, roc_auc_score\n",
    "\n",
    "for name, model in models.items():\n",
    "    preds = model.predict(X_test_tf)\n",
    "    preds_bin = (preds > 0.5).astype(int)\n",
    "    print(f\"\\n📌 {name}\")\n",
    "    print(classification_report(y_test, preds_bin))\n",
    "    print(\"ROC AUC:\", roc_auc_score(y_test, preds))"
   ]
  },
  {
   "cell_type": "markdown",
   "id": "9fa0e2b2",
   "metadata": {},
   "source": [
    "## Step 5: DL Ensemble (Soft Averaging)"
   ]
  },
  {
   "cell_type": "code",
   "execution_count": null,
   "id": "3ef14e05",
   "metadata": {},
   "outputs": [
    {
     "name": "stdout",
     "output_type": "stream",
     "text": [
      "39767/39767 [==============================] - 158s 4ms/step\n",
      "39767/39767 [==============================] - 123s 3ms/step\n",
      "39767/39767 [==============================] - 106s 3ms/step\n",
      "39767/39767 [==============================] - 331s 8ms/step\n",
      "📊 DL Ensemble Performance\n",
      "              precision    recall  f1-score   support\n",
      "\n",
      "           0       1.00      1.00      1.00   1270881\n",
      "           1       0.98      0.75      0.85      1643\n",
      "\n",
      "    accuracy                           1.00   1272524\n",
      "   macro avg       0.99      0.87      0.92   1272524\n",
      "weighted avg       1.00      1.00      1.00   1272524\n",
      "\n",
      "ROC AUC: 0.9981764661504772\n"
     ]
    },
    {
     "ename": "",
     "evalue": "",
     "output_type": "error",
     "traceback": [
      "\u001b[1;31mnotebook controller is DISPOSED. \n",
      "\u001b[1;31mView Jupyter <a href='command:jupyter.viewOutput'>log</a> for further details."
     ]
    }
   ],
   "source": [
    "# Average predictions\n",
    "ensemble_preds = sum(model.predict(X_test_tf) for model in models.values()) / len(models)\n",
    "ensemble_bin = (ensemble_preds > 0.5).astype(int)\n",
    "\n",
    "print(\"📊 DL Ensemble Performance\")\n",
    "print(classification_report(y_test, ensemble_bin))\n",
    "print(\"ROC AUC:\", roc_auc_score(y_test, ensemble_preds))"
   ]
  },
  {
   "cell_type": "code",
   "execution_count": null,
   "id": "927880e8",
   "metadata": {},
   "outputs": [
    {
     "ename": "KeyError",
     "evalue": "'ensemble_preds'",
     "output_type": "error",
     "traceback": [
      "\u001b[1;31m---------------------------------------------------------------------------\u001b[0m",
      "\u001b[1;31mKeyError\u001b[0m                                  Traceback (most recent call last)",
      "Cell \u001b[1;32mIn[9], line 2\u001b[0m\n\u001b[0;32m      1\u001b[0m \u001b[38;5;66;03m# Save any DL model\u001b[39;00m\n\u001b[1;32m----> 2\u001b[0m \u001b[43mmodels\u001b[49m\u001b[43m[\u001b[49m\u001b[38;5;124;43m'\u001b[39;49m\u001b[38;5;124;43mensemble_preds\u001b[39;49m\u001b[38;5;124;43m'\u001b[39;49m\u001b[43m]\u001b[49m\u001b[38;5;241m.\u001b[39msave(\u001b[38;5;124m'\u001b[39m\u001b[38;5;124mfraud_dl_model.h5\u001b[39m\u001b[38;5;124m'\u001b[39m)\n\u001b[0;32m      3\u001b[0m \u001b[38;5;28mprint\u001b[39m(\u001b[38;5;124m\"\u001b[39m\u001b[38;5;124m✅ DL model saved as \u001b[39m\u001b[38;5;124m'\u001b[39m\u001b[38;5;124mfraud_dl_model.h5\u001b[39m\u001b[38;5;124m'\u001b[39m\u001b[38;5;124m\"\u001b[39m)\n",
      "\u001b[1;31mKeyError\u001b[0m: 'ensemble_preds'"
     ]
    },
    {
     "ename": "",
     "evalue": "",
     "output_type": "error",
     "traceback": [
      "\u001b[1;31mnotebook controller is DISPOSED. \n",
      "\u001b[1;31mView Jupyter <a href='command:jupyter.viewOutput'>log</a> for further details."
     ]
    }
   ],
   "source": [
    "# Save any DL model\n",
    "models['ensemble_preds'].save('fraud_dl_model.h5')\n",
    "print(\"✅ DL model saved as 'fraud_dl_model.h5'\")\n"
   ]
  },
  {
   "cell_type": "code",
   "execution_count": null,
   "id": "c71d91b1",
   "metadata": {},
   "outputs": [
    {
     "ename": "",
     "evalue": "",
     "output_type": "error",
     "traceback": [
      "\u001b[1;31mnotebook controller is DISPOSED. \n",
      "\u001b[1;31mView Jupyter <a href='command:jupyter.viewOutput'>log</a> for further details."
     ]
    },
    {
     "ename": "",
     "evalue": "",
     "output_type": "error",
     "traceback": [
      "\u001b[1;31mnotebook controller is DISPOSED. \n",
      "\u001b[1;31mView Jupyter <a href='command:jupyter.viewOutput'>log</a> for further details."
     ]
    },
    {
     "ename": "",
     "evalue": "",
     "output_type": "error",
     "traceback": [
      "\u001b[1;31mnotebook controller is DISPOSED. \n",
      "\u001b[1;31mView Jupyter <a href='command:jupyter.viewOutput'>log</a> for further details."
     ]
    },
    {
     "ename": "",
     "evalue": "",
     "output_type": "error",
     "traceback": [
      "\u001b[1;31mnotebook controller is DISPOSED. \n",
      "\u001b[1;31mView Jupyter <a href='command:jupyter.viewOutput'>log</a> for further details."
     ]
    }
   ],
   "source": [
    "from tensorflow.keras.models import load_model\n",
    "\n",
    "# Load model\n",
    "dl_model = load_model('fraud_dl_model.h5')\n",
    "\n",
    "# Predict on test samples\n",
    "sample = X_test[:20]\n",
    "sample_scaled = scaler.transform(sample)\n",
    "dl_preds = dl_model.predict(sample_scaled)\n",
    "\n",
    "for i, prob in enumerate(dl_preds):\n",
    "    print(f\"Sample {i+1} - Fraud Probability: {prob[0]:.4f}\")\n",
    "    print(f\"Sample {i+1} - Fraud Prediction: {'Fraud' if prob[0] > 0.5 else 'Not Fraud'}\")\n"
   ]
  }
 ],
 "metadata": {
  "kernelspec": {
   "display_name": "diabetes",
   "language": "python",
   "name": "python3"
  },
  "language_info": {
   "codemirror_mode": {
    "name": "ipython",
    "version": 3
   },
   "file_extension": ".py",
   "mimetype": "text/x-python",
   "name": "python",
   "nbconvert_exporter": "python",
   "pygments_lexer": "ipython3",
   "version": "3.8.0"
  }
 },
 "nbformat": 4,
 "nbformat_minor": 5
}
