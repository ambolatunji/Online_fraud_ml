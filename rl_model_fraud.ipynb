{
 "cells": [
  {
   "cell_type": "markdown",
   "id": "e26b4630",
   "metadata": {},
   "source": [
    "# 🤖 Fraud Detection - Reinforcement Learning (Q-Learning Style)\n",
    "This notebook simulates an adaptive agent learning to flag fraudulent transactions using reward signals."
   ]
  },
  {
   "cell_type": "markdown",
   "id": "008be5d0",
   "metadata": {},
   "source": [
    "## 🎯 Objective\n",
    "- Simulate a fraud detection agent\n",
    "- Use a simplified Q-learning logic\n",
    "- Learn from transaction features and fraud labels\n",
    "- Adapt based on reward: +1 for correct fraud detection, -1 for missed or false flag"
   ]
  },
  {
   "cell_type": "markdown",
   "id": "f4429086",
   "metadata": {},
   "source": [
    "## 📥 Step 1: Load and Prepare Data"
   ]
  },
  {
   "cell_type": "code",
   "execution_count": null,
   "id": "98f2b465",
   "metadata": {},
   "outputs": [
    {
     "data": {
      "application/vnd.microsoft.datawrangler.viewer.v0+json": {
       "columns": [
        {
         "name": "index",
         "rawType": "int64",
         "type": "integer"
        },
        {
         "name": "step",
         "rawType": "int64",
         "type": "integer"
        },
        {
         "name": "type",
         "rawType": "int64",
         "type": "integer"
        },
        {
         "name": "amount",
         "rawType": "float64",
         "type": "float"
        },
        {
         "name": "nameOrig",
         "rawType": "object",
         "type": "string"
        },
        {
         "name": "oldbalanceOrg",
         "rawType": "float64",
         "type": "float"
        },
        {
         "name": "newbalanceOrig",
         "rawType": "float64",
         "type": "float"
        },
        {
         "name": "nameDest",
         "rawType": "object",
         "type": "string"
        },
        {
         "name": "oldbalanceDest",
         "rawType": "float64",
         "type": "float"
        },
        {
         "name": "newbalanceDest",
         "rawType": "float64",
         "type": "float"
        },
        {
         "name": "isFraud",
         "rawType": "int64",
         "type": "integer"
        },
        {
         "name": "isFlaggedFraud",
         "rawType": "int64",
         "type": "integer"
        },
        {
         "name": "balance_diff_org",
         "rawType": "float64",
         "type": "float"
        },
        {
         "name": "balance_diff_dest",
         "rawType": "float64",
         "type": "float"
        },
        {
         "name": "amount_diff_org",
         "rawType": "float64",
         "type": "float"
        },
        {
         "name": "amount_diff_dest",
         "rawType": "float64",
         "type": "float"
        },
        {
         "name": "txn_ratio",
         "rawType": "float64",
         "type": "float"
        },
        {
         "name": "is_sender_zero_bal",
         "rawType": "int64",
         "type": "integer"
        },
        {
         "name": "is_receiver_zero_before",
         "rawType": "int64",
         "type": "integer"
        },
        {
         "name": "is_receiver_exact_amount",
         "rawType": "int64",
         "type": "integer"
        },
        {
         "name": "is_large_txn",
         "rawType": "int64",
         "type": "integer"
        },
        {
         "name": "org_to_dest_same",
         "rawType": "int64",
         "type": "integer"
        },
        {
         "name": "sender_is_customer",
         "rawType": "int64",
         "type": "integer"
        },
        {
         "name": "receiver_is_customer",
         "rawType": "int64",
         "type": "integer"
        },
        {
         "name": "receiver_is_merchant",
         "rawType": "int64",
         "type": "integer"
        },
        {
         "name": "risk_combo",
         "rawType": "int64",
         "type": "integer"
        },
        {
         "name": "hour",
         "rawType": "int64",
         "type": "integer"
        },
        {
         "name": "is_night",
         "rawType": "int64",
         "type": "integer"
        }
       ],
       "conversionMethod": "pd.DataFrame",
       "ref": "a7c5867b-054e-4038-970f-4fe29aadaed5",
       "rows": [
        [
         "0",
         "1",
         "3",
         "9839.64",
         "C1231006815",
         "170136.0",
         "160296.36",
         "M1979787155",
         "0.0",
         "0.0",
         "0",
         "0",
         "9839.640000000014",
         "0.0",
         "-1.4551915228366852e-11",
         "9839.64",
         "0.0578339681196219",
         "0",
         "1",
         "0",
         "0",
         "0",
         "1",
         "0",
         "1",
         "0",
         "1",
         "1"
        ],
        [
         "1",
         "1",
         "3",
         "1864.28",
         "C1666544295",
         "21249.0",
         "19384.72",
         "M2044282225",
         "0.0",
         "0.0",
         "0",
         "0",
         "1864.2799999999988",
         "0.0",
         "1.1368683772161605e-12",
         "1864.28",
         "0.0877349522330462",
         "0",
         "1",
         "0",
         "0",
         "0",
         "1",
         "0",
         "1",
         "0",
         "1",
         "1"
        ],
        [
         "2",
         "1",
         "4",
         "181.0",
         "C1305486145",
         "181.0",
         "0.0",
         "C553264065",
         "0.0",
         "0.0",
         "1",
         "0",
         "181.0",
         "0.0",
         "0.0",
         "181.0",
         "1.0",
         "0",
         "1",
         "0",
         "0",
         "0",
         "1",
         "1",
         "0",
         "0",
         "1",
         "1"
        ],
        [
         "3",
         "1",
         "1",
         "181.0",
         "C840083671",
         "181.0",
         "0.0",
         "C38997010",
         "21182.0",
         "0.0",
         "1",
         "0",
         "181.0",
         "-21182.0",
         "0.0",
         "21363.0",
         "1.0",
         "0",
         "0",
         "0",
         "0",
         "0",
         "1",
         "1",
         "0",
         "0",
         "1",
         "1"
        ],
        [
         "4",
         "1",
         "3",
         "11668.14",
         "C2048537720",
         "41554.0",
         "29885.86",
         "M1230701703",
         "0.0",
         "0.0",
         "0",
         "0",
         "11668.14",
         "0.0",
         "0.0",
         "11668.14",
         "0.2807946286759397",
         "0",
         "1",
         "0",
         "0",
         "0",
         "1",
         "0",
         "1",
         "0",
         "1",
         "1"
        ]
       ],
       "shape": {
        "columns": 27,
        "rows": 5
       }
      },
      "text/html": [
       "<div>\n",
       "<style scoped>\n",
       "    .dataframe tbody tr th:only-of-type {\n",
       "        vertical-align: middle;\n",
       "    }\n",
       "\n",
       "    .dataframe tbody tr th {\n",
       "        vertical-align: top;\n",
       "    }\n",
       "\n",
       "    .dataframe thead th {\n",
       "        text-align: right;\n",
       "    }\n",
       "</style>\n",
       "<table border=\"1\" class=\"dataframe\">\n",
       "  <thead>\n",
       "    <tr style=\"text-align: right;\">\n",
       "      <th></th>\n",
       "      <th>step</th>\n",
       "      <th>type</th>\n",
       "      <th>amount</th>\n",
       "      <th>nameOrig</th>\n",
       "      <th>oldbalanceOrg</th>\n",
       "      <th>newbalanceOrig</th>\n",
       "      <th>nameDest</th>\n",
       "      <th>oldbalanceDest</th>\n",
       "      <th>newbalanceDest</th>\n",
       "      <th>isFraud</th>\n",
       "      <th>...</th>\n",
       "      <th>is_receiver_zero_before</th>\n",
       "      <th>is_receiver_exact_amount</th>\n",
       "      <th>is_large_txn</th>\n",
       "      <th>org_to_dest_same</th>\n",
       "      <th>sender_is_customer</th>\n",
       "      <th>receiver_is_customer</th>\n",
       "      <th>receiver_is_merchant</th>\n",
       "      <th>risk_combo</th>\n",
       "      <th>hour</th>\n",
       "      <th>is_night</th>\n",
       "    </tr>\n",
       "  </thead>\n",
       "  <tbody>\n",
       "    <tr>\n",
       "      <th>0</th>\n",
       "      <td>1</td>\n",
       "      <td>3</td>\n",
       "      <td>9839.64</td>\n",
       "      <td>C1231006815</td>\n",
       "      <td>170136.0</td>\n",
       "      <td>160296.36</td>\n",
       "      <td>M1979787155</td>\n",
       "      <td>0.0</td>\n",
       "      <td>0.0</td>\n",
       "      <td>0</td>\n",
       "      <td>...</td>\n",
       "      <td>1</td>\n",
       "      <td>0</td>\n",
       "      <td>0</td>\n",
       "      <td>0</td>\n",
       "      <td>1</td>\n",
       "      <td>0</td>\n",
       "      <td>1</td>\n",
       "      <td>0</td>\n",
       "      <td>1</td>\n",
       "      <td>1</td>\n",
       "    </tr>\n",
       "    <tr>\n",
       "      <th>1</th>\n",
       "      <td>1</td>\n",
       "      <td>3</td>\n",
       "      <td>1864.28</td>\n",
       "      <td>C1666544295</td>\n",
       "      <td>21249.0</td>\n",
       "      <td>19384.72</td>\n",
       "      <td>M2044282225</td>\n",
       "      <td>0.0</td>\n",
       "      <td>0.0</td>\n",
       "      <td>0</td>\n",
       "      <td>...</td>\n",
       "      <td>1</td>\n",
       "      <td>0</td>\n",
       "      <td>0</td>\n",
       "      <td>0</td>\n",
       "      <td>1</td>\n",
       "      <td>0</td>\n",
       "      <td>1</td>\n",
       "      <td>0</td>\n",
       "      <td>1</td>\n",
       "      <td>1</td>\n",
       "    </tr>\n",
       "    <tr>\n",
       "      <th>2</th>\n",
       "      <td>1</td>\n",
       "      <td>4</td>\n",
       "      <td>181.00</td>\n",
       "      <td>C1305486145</td>\n",
       "      <td>181.0</td>\n",
       "      <td>0.00</td>\n",
       "      <td>C553264065</td>\n",
       "      <td>0.0</td>\n",
       "      <td>0.0</td>\n",
       "      <td>1</td>\n",
       "      <td>...</td>\n",
       "      <td>1</td>\n",
       "      <td>0</td>\n",
       "      <td>0</td>\n",
       "      <td>0</td>\n",
       "      <td>1</td>\n",
       "      <td>1</td>\n",
       "      <td>0</td>\n",
       "      <td>0</td>\n",
       "      <td>1</td>\n",
       "      <td>1</td>\n",
       "    </tr>\n",
       "    <tr>\n",
       "      <th>3</th>\n",
       "      <td>1</td>\n",
       "      <td>1</td>\n",
       "      <td>181.00</td>\n",
       "      <td>C840083671</td>\n",
       "      <td>181.0</td>\n",
       "      <td>0.00</td>\n",
       "      <td>C38997010</td>\n",
       "      <td>21182.0</td>\n",
       "      <td>0.0</td>\n",
       "      <td>1</td>\n",
       "      <td>...</td>\n",
       "      <td>0</td>\n",
       "      <td>0</td>\n",
       "      <td>0</td>\n",
       "      <td>0</td>\n",
       "      <td>1</td>\n",
       "      <td>1</td>\n",
       "      <td>0</td>\n",
       "      <td>0</td>\n",
       "      <td>1</td>\n",
       "      <td>1</td>\n",
       "    </tr>\n",
       "    <tr>\n",
       "      <th>4</th>\n",
       "      <td>1</td>\n",
       "      <td>3</td>\n",
       "      <td>11668.14</td>\n",
       "      <td>C2048537720</td>\n",
       "      <td>41554.0</td>\n",
       "      <td>29885.86</td>\n",
       "      <td>M1230701703</td>\n",
       "      <td>0.0</td>\n",
       "      <td>0.0</td>\n",
       "      <td>0</td>\n",
       "      <td>...</td>\n",
       "      <td>1</td>\n",
       "      <td>0</td>\n",
       "      <td>0</td>\n",
       "      <td>0</td>\n",
       "      <td>1</td>\n",
       "      <td>0</td>\n",
       "      <td>1</td>\n",
       "      <td>0</td>\n",
       "      <td>1</td>\n",
       "      <td>1</td>\n",
       "    </tr>\n",
       "  </tbody>\n",
       "</table>\n",
       "<p>5 rows × 27 columns</p>\n",
       "</div>"
      ],
      "text/plain": [
       "   step  type    amount     nameOrig  oldbalanceOrg  newbalanceOrig  \\\n",
       "0     1     3   9839.64  C1231006815       170136.0       160296.36   \n",
       "1     1     3   1864.28  C1666544295        21249.0        19384.72   \n",
       "2     1     4    181.00  C1305486145          181.0            0.00   \n",
       "3     1     1    181.00   C840083671          181.0            0.00   \n",
       "4     1     3  11668.14  C2048537720        41554.0        29885.86   \n",
       "\n",
       "      nameDest  oldbalanceDest  newbalanceDest  isFraud  ...  \\\n",
       "0  M1979787155             0.0             0.0        0  ...   \n",
       "1  M2044282225             0.0             0.0        0  ...   \n",
       "2   C553264065             0.0             0.0        1  ...   \n",
       "3    C38997010         21182.0             0.0        1  ...   \n",
       "4  M1230701703             0.0             0.0        0  ...   \n",
       "\n",
       "   is_receiver_zero_before  is_receiver_exact_amount  is_large_txn  \\\n",
       "0                        1                         0             0   \n",
       "1                        1                         0             0   \n",
       "2                        1                         0             0   \n",
       "3                        0                         0             0   \n",
       "4                        1                         0             0   \n",
       "\n",
       "   org_to_dest_same  sender_is_customer  receiver_is_customer  \\\n",
       "0                 0                   1                     0   \n",
       "1                 0                   1                     0   \n",
       "2                 0                   1                     1   \n",
       "3                 0                   1                     1   \n",
       "4                 0                   1                     0   \n",
       "\n",
       "   receiver_is_merchant  risk_combo  hour  is_night  \n",
       "0                     1           0     1         1  \n",
       "1                     1           0     1         1  \n",
       "2                     0           0     1         1  \n",
       "3                     0           0     1         1  \n",
       "4                     1           0     1         1  \n",
       "\n",
       "[5 rows x 27 columns]"
      ]
     },
     "execution_count": 1,
     "metadata": {},
     "output_type": "execute_result"
    }
   ],
   "source": [
    "import pandas as pd\n",
    "import numpy as np\n",
    "from sklearn.preprocessing import StandardScaler\n",
    "\n",
    "# Load enhanced data\n",
    "df = pd.read_csv(\"enhanced_online_fraud_dataset.csv\")\n",
    "df.head()"
   ]
  },
  {
   "cell_type": "code",
   "execution_count": 2,
   "id": "a7295f57",
   "metadata": {},
   "outputs": [],
   "source": [
    "\n",
    "\n",
    "# Simplify for simulation\n",
    "features = ['amount', 'balance_diff_org', 'balance_diff_dest', 'txn_ratio', 'is_large_txn', 'is_receiver_zero_before']\n",
    "df_sim = df[features + ['isFraud']].copy()\n",
    "\n",
    "# Normalize features\n",
    "df_sim[features] = (df_sim[features] - df_sim[features].mean()) / df_sim[features].std()\n",
    "\n",
    "# Convert to numpy\n",
    "X = df_sim[features].values\n",
    "y = df_sim['isFraud'].values"
   ]
  },
  {
   "cell_type": "markdown",
   "id": "088fdeeb",
   "metadata": {},
   "source": [
    "## 🧠 Step 2: Q-Learning Simulation"
   ]
  },
  {
   "cell_type": "code",
   "execution_count": 3,
   "id": "01a8e017",
   "metadata": {},
   "outputs": [
    {
     "name": "stdout",
     "output_type": "stream",
     "text": [
      "Episode 1: Total Reward = 3372\n",
      "Episode 2: Total Reward = 31274\n",
      "Episode 3: Total Reward = -7928\n",
      "Episode 4: Total Reward = -1440\n",
      "Episode 5: Total Reward = -26382\n",
      "Episode 6: Total Reward = 26098\n",
      "Episode 7: Total Reward = -30574\n",
      "Episode 8: Total Reward = 2892\n",
      "Episode 9: Total Reward = 10856\n",
      "Episode 10: Total Reward = 6356\n"
     ]
    }
   ],
   "source": [
    "n_features = X.shape[1]\n",
    "weights = np.random.randn(n_features)\n",
    "alpha = 0.01  # learning rate\n",
    "gamma = 0.9   # discount factor\n",
    "epsilon = 0.1  # exploration rate\n",
    "rewards = []\n",
    "\n",
    "# Simulate interaction\n",
    "for episode in range(1, 11):  # 10 episodes\n",
    "    total_reward = 0\n",
    "    for i in range(len(X)):\n",
    "        state = X[i]\n",
    "        true_label = y[i]\n",
    "        \n",
    "        # Epsilon-greedy policy\n",
    "        if np.random.rand() < epsilon:\n",
    "            action = np.random.randint(0, 2)  # Random guess: 0 or 1\n",
    "        else:\n",
    "            action = int(np.dot(weights, state) > 0)  # Predict based on weights\n",
    "        \n",
    "        # Reward rule\n",
    "        if action == true_label:\n",
    "            reward = 1\n",
    "        else:\n",
    "            reward = -1\n",
    "        \n",
    "        # Update rule (gradient ascent)\n",
    "        weights += alpha * reward * state\n",
    "        total_reward += reward\n",
    "    \n",
    "    rewards.append(total_reward)\n",
    "    print(f\"Episode {episode}: Total Reward = {total_reward}\")"
   ]
  },
  {
   "cell_type": "markdown",
   "id": "b78e9b03",
   "metadata": {},
   "source": [
    "## 📈 Step 3: Plot Learning Curve"
   ]
  },
  {
   "cell_type": "code",
   "execution_count": 4,
   "id": "00354527",
   "metadata": {},
   "outputs": [
    {
     "data": {
      "image/png": "[encoded data removed]",
      "text/plain": [
       "<Figure size 640x480 with 1 Axes>"
      ]
     },
     "metadata": {},
     "output_type": "display_data"
    }
   ],
   "source": [
    "import matplotlib.pyplot as plt\n",
    "\n",
    "plt.plot(rewards, marker='o')\n",
    "plt.title(\"Q-Learning: Reward per Episode\")\n",
    "plt.xlabel(\"Episode\")\n",
    "plt.ylabel(\"Total Reward\")\n",
    "plt.grid(True)\n",
    "plt.tight_layout()\n",
    "plt.show()"
   ]
  },
  {
   "cell_type": "code",
   "execution_count": 5,
   "id": "6e36c323",
   "metadata": {},
   "outputs": [
    {
     "name": "stdout",
     "output_type": "stream",
     "text": [
      "✅ Q-Learning weights saved to 'qlearning_fraud_weights.npy'\n"
     ]
    }
   ],
   "source": [
    "# Save learned weights as .npy file\n",
    "np.save(\"qlearning_fraud_weights.npy\", weights)\n",
    "print(\"✅ Q-Learning weights saved to 'qlearning_fraud_weights.npy'\")\n"
   ]
  },
  {
   "cell_type": "code",
   "execution_count": 6,
   "id": "58918974",
   "metadata": {},
   "outputs": [
    {
     "name": "stdout",
     "output_type": "stream",
     "text": [
      "✅ Weights loaded successfully\n"
     ]
    }
   ],
   "source": [
    "# Load weights\n",
    "weights = np.load(\"qlearning_fraud_weights.npy\")\n",
    "print(\"✅ Weights loaded successfully\")\n"
   ]
  },
  {
   "cell_type": "code",
   "execution_count": null,
   "id": "ca8f2d36",
   "metadata": {},
   "outputs": [],
   "source": [
    "import joblib\n",
    "joblib.dump(scaler, \"qlearning_scaler.pkl\")\n",
    "# Later use: scaler = joblib.load(\"qlearning_scaler.pkl\")\n",
    "print(\"✅ Scaler saved as 'qlearning_scaler.pkl'\")"
   ]
  },
  {
   "cell_type": "code",
   "execution_count": null,
   "id": "b129f899",
   "metadata": {},
   "outputs": [
    {
     "name": "stdout",
     "output_type": "stream",
     "text": [
      "Sample 1: Predicted = LEGIT\n",
      "Sample 2: Predicted = LEGIT\n",
      "Sample 3: Predicted = LEGIT\n",
      "Sample 4: Predicted = FRAUD\n",
      "Sample 5: Predicted = LEGIT\n",
      "Sample 6: Predicted = LEGIT\n",
      "Sample 7: Predicted = LEGIT\n",
      "Sample 8: Predicted = LEGIT\n",
      "Sample 9: Predicted = LEGIT\n",
      "Sample 10: Predicted = LEGIT\n",
      "Sample 11: Predicted = FRAUD\n",
      "Sample 12: Predicted = LEGIT\n",
      "Sample 13: Predicted = LEGIT\n",
      "Sample 14: Predicted = LEGIT\n",
      "Sample 15: Predicted = LEGIT\n",
      "Sample 16: Predicted = LEGIT\n",
      "Sample 17: Predicted = LEGIT\n",
      "Sample 18: Predicted = LEGIT\n",
      "Sample 19: Predicted = LEGIT\n",
      "Sample 20: Predicted = LEGIT\n"
     ]
    }
   ],
   "source": [
    "from sklearn.preprocessing import StandardScaler\n",
    "\n",
    "X = df[features]\n",
    "scaler = StandardScaler()\n",
    "X_scaled = scaler.fit_transform(X) \n",
    "\n",
    "# Predict with Q-Learning agent (dot product → decision boundary)\n",
    "def predict_fraud_qlearning(x_row):\n",
    "    score = np.dot(weights, x_row)\n",
    "    return int(score > 0)  # 1 = fraud, 0 = legit\n",
    "\n",
    "# Test on first 5 transactions\n",
    "for i in range(20):\n",
    "    row = X_scaled[i]\n",
    "    label = predict_fraud_qlearning(row)\n",
    "    print(f\"Sample {i+1}: Predicted = {'FRAUD' if label == 1 else 'LEGIT'}\")\n"
   ]
  },
  {
   "cell_type": "code",
   "execution_count": 8,
   "id": "5e5337d5",
   "metadata": {},
   "outputs": [],
   "source": [
    "def sigmoid(x):\n",
    "    return 1 / (1 + np.exp(-x))\n",
    "\n",
    "def predict_fraud_qlearning_with_confidence(x_row):\n",
    "    score = np.dot(weights, x_row)\n",
    "    confidence = sigmoid(score)  # ranges from 0 to 1\n",
    "    prediction = int(confidence > 0.5)\n",
    "    return prediction, confidence\n"
   ]
  },
  {
   "cell_type": "code",
   "execution_count": 9,
   "id": "9c3f3054",
   "metadata": {},
   "outputs": [
    {
     "data": {
      "application/vnd.microsoft.datawrangler.viewer.v0+json": {
       "columns": [
        {
         "name": "index",
         "rawType": "int64",
         "type": "integer"
        },
        {
         "name": "Sample",
         "rawType": "int64",
         "type": "integer"
        },
        {
         "name": "True Label",
         "rawType": "object",
         "type": "string"
        },
        {
         "name": "Predicted",
         "rawType": "object",
         "type": "string"
        },
        {
         "name": "Confidence",
         "rawType": "object",
         "type": "string"
        }
       ],
       "conversionMethod": "pd.DataFrame",
       "ref": "2c6764b7-a5a5-467c-8c8d-8a2fbed4c4de",
       "rows": [
        [
         "0",
         "1",
         "LEGIT",
         "LEGIT",
         "1.46%"
        ],
        [
         "1",
         "2",
         "LEGIT",
         "LEGIT",
         "10.88%"
        ],
        [
         "2",
         "3",
         "FRAUD",
         "LEGIT",
         "16.01%"
        ],
        [
         "3",
         "4",
         "FRAUD",
         "FRAUD",
         "58.46%"
        ],
        [
         "4",
         "5",
         "LEGIT",
         "LEGIT",
         "0.90%"
        ],
        [
         "5",
         "6",
         "LEGIT",
         "LEGIT",
         "2.46%"
        ],
        [
         "6",
         "7",
         "LEGIT",
         "LEGIT",
         "2.96%"
        ],
        [
         "7",
         "8",
         "LEGIT",
         "LEGIT",
         "2.43%"
        ],
        [
         "8",
         "9",
         "LEGIT",
         "LEGIT",
         "8.68%"
        ],
        [
         "9",
         "10",
         "LEGIT",
         "LEGIT",
         "31.02%"
        ],
        [
         "10",
         "11",
         "LEGIT",
         "FRAUD",
         "72.84%"
        ],
        [
         "11",
         "12",
         "LEGIT",
         "LEGIT",
         "8.09%"
        ],
        [
         "12",
         "13",
         "LEGIT",
         "LEGIT",
         "9.21%"
        ],
        [
         "13",
         "14",
         "LEGIT",
         "LEGIT",
         "1.30%"
        ],
        [
         "14",
         "15",
         "LEGIT",
         "LEGIT",
         "6.33%"
        ],
        [
         "15",
         "16",
         "LEGIT",
         "LEGIT",
         "0.00%"
        ],
        [
         "16",
         "17",
         "LEGIT",
         "LEGIT",
         "14.69%"
        ],
        [
         "17",
         "18",
         "LEGIT",
         "LEGIT",
         "12.83%"
        ],
        [
         "18",
         "19",
         "LEGIT",
         "LEGIT",
         "14.34%"
        ],
        [
         "19",
         "20",
         "LEGIT",
         "LEGIT",
         "0.00%"
        ]
       ],
       "shape": {
        "columns": 4,
        "rows": 20
       }
      },
      "text/html": [
       "<div>\n",
       "<style scoped>\n",
       "    .dataframe tbody tr th:only-of-type {\n",
       "        vertical-align: middle;\n",
       "    }\n",
       "\n",
       "    .dataframe tbody tr th {\n",
       "        vertical-align: top;\n",
       "    }\n",
       "\n",
       "    .dataframe thead th {\n",
       "        text-align: right;\n",
       "    }\n",
       "</style>\n",
       "<table border=\"1\" class=\"dataframe\">\n",
       "  <thead>\n",
       "    <tr style=\"text-align: right;\">\n",
       "      <th></th>\n",
       "      <th>Sample</th>\n",
       "      <th>True Label</th>\n",
       "      <th>Predicted</th>\n",
       "      <th>Confidence</th>\n",
       "    </tr>\n",
       "  </thead>\n",
       "  <tbody>\n",
       "    <tr>\n",
       "      <th>0</th>\n",
       "      <td>1</td>\n",
       "      <td>LEGIT</td>\n",
       "      <td>LEGIT</td>\n",
       "      <td>1.46%</td>\n",
       "    </tr>\n",
       "    <tr>\n",
       "      <th>1</th>\n",
       "      <td>2</td>\n",
       "      <td>LEGIT</td>\n",
       "      <td>LEGIT</td>\n",
       "      <td>10.88%</td>\n",
       "    </tr>\n",
       "    <tr>\n",
       "      <th>2</th>\n",
       "      <td>3</td>\n",
       "      <td>FRAUD</td>\n",
       "      <td>LEGIT</td>\n",
       "      <td>16.01%</td>\n",
       "    </tr>\n",
       "    <tr>\n",
       "      <th>3</th>\n",
       "      <td>4</td>\n",
       "      <td>FRAUD</td>\n",
       "      <td>FRAUD</td>\n",
       "      <td>58.46%</td>\n",
       "    </tr>\n",
       "    <tr>\n",
       "      <th>4</th>\n",
       "      <td>5</td>\n",
       "      <td>LEGIT</td>\n",
       "      <td>LEGIT</td>\n",
       "      <td>0.90%</td>\n",
       "    </tr>\n",
       "    <tr>\n",
       "      <th>5</th>\n",
       "      <td>6</td>\n",
       "      <td>LEGIT</td>\n",
       "      <td>LEGIT</td>\n",
       "      <td>2.46%</td>\n",
       "    </tr>\n",
       "    <tr>\n",
       "      <th>6</th>\n",
       "      <td>7</td>\n",
       "      <td>LEGIT</td>\n",
       "      <td>LEGIT</td>\n",
       "      <td>2.96%</td>\n",
       "    </tr>\n",
       "    <tr>\n",
       "      <th>7</th>\n",
       "      <td>8</td>\n",
       "      <td>LEGIT</td>\n",
       "      <td>LEGIT</td>\n",
       "      <td>2.43%</td>\n",
       "    </tr>\n",
       "    <tr>\n",
       "      <th>8</th>\n",
       "      <td>9</td>\n",
       "      <td>LEGIT</td>\n",
       "      <td>LEGIT</td>\n",
       "      <td>8.68%</td>\n",
       "    </tr>\n",
       "    <tr>\n",
       "      <th>9</th>\n",
       "      <td>10</td>\n",
       "      <td>LEGIT</td>\n",
       "      <td>LEGIT</td>\n",
       "      <td>31.02%</td>\n",
       "    </tr>\n",
       "    <tr>\n",
       "      <th>10</th>\n",
       "      <td>11</td>\n",
       "      <td>LEGIT</td>\n",
       "      <td>FRAUD</td>\n",
       "      <td>72.84%</td>\n",
       "    </tr>\n",
       "    <tr>\n",
       "      <th>11</th>\n",
       "      <td>12</td>\n",
       "      <td>LEGIT</td>\n",
       "      <td>LEGIT</td>\n",
       "      <td>8.09%</td>\n",
       "    </tr>\n",
       "    <tr>\n",
       "      <th>12</th>\n",
       "      <td>13</td>\n",
       "      <td>LEGIT</td>\n",
       "      <td>LEGIT</td>\n",
       "      <td>9.21%</td>\n",
       "    </tr>\n",
       "    <tr>\n",
       "      <th>13</th>\n",
       "      <td>14</td>\n",
       "      <td>LEGIT</td>\n",
       "      <td>LEGIT</td>\n",
       "      <td>1.30%</td>\n",
       "    </tr>\n",
       "    <tr>\n",
       "      <th>14</th>\n",
       "      <td>15</td>\n",
       "      <td>LEGIT</td>\n",
       "      <td>LEGIT</td>\n",
       "      <td>6.33%</td>\n",
       "    </tr>\n",
       "    <tr>\n",
       "      <th>15</th>\n",
       "      <td>16</td>\n",
       "      <td>LEGIT</td>\n",
       "      <td>LEGIT</td>\n",
       "      <td>0.00%</td>\n",
       "    </tr>\n",
       "    <tr>\n",
       "      <th>16</th>\n",
       "      <td>17</td>\n",
       "      <td>LEGIT</td>\n",
       "      <td>LEGIT</td>\n",
       "      <td>14.69%</td>\n",
       "    </tr>\n",
       "    <tr>\n",
       "      <th>17</th>\n",
       "      <td>18</td>\n",
       "      <td>LEGIT</td>\n",
       "      <td>LEGIT</td>\n",
       "      <td>12.83%</td>\n",
       "    </tr>\n",
       "    <tr>\n",
       "      <th>18</th>\n",
       "      <td>19</td>\n",
       "      <td>LEGIT</td>\n",
       "      <td>LEGIT</td>\n",
       "      <td>14.34%</td>\n",
       "    </tr>\n",
       "    <tr>\n",
       "      <th>19</th>\n",
       "      <td>20</td>\n",
       "      <td>LEGIT</td>\n",
       "      <td>LEGIT</td>\n",
       "      <td>0.00%</td>\n",
       "    </tr>\n",
       "  </tbody>\n",
       "</table>\n",
       "</div>"
      ],
      "text/plain": [
       "    Sample True Label Predicted Confidence\n",
       "0        1      LEGIT     LEGIT      1.46%\n",
       "1        2      LEGIT     LEGIT     10.88%\n",
       "2        3      FRAUD     LEGIT     16.01%\n",
       "3        4      FRAUD     FRAUD     58.46%\n",
       "4        5      LEGIT     LEGIT      0.90%\n",
       "5        6      LEGIT     LEGIT      2.46%\n",
       "6        7      LEGIT     LEGIT      2.96%\n",
       "7        8      LEGIT     LEGIT      2.43%\n",
       "8        9      LEGIT     LEGIT      8.68%\n",
       "9       10      LEGIT     LEGIT     31.02%\n",
       "10      11      LEGIT     FRAUD     72.84%\n",
       "11      12      LEGIT     LEGIT      8.09%\n",
       "12      13      LEGIT     LEGIT      9.21%\n",
       "13      14      LEGIT     LEGIT      1.30%\n",
       "14      15      LEGIT     LEGIT      6.33%\n",
       "15      16      LEGIT     LEGIT      0.00%\n",
       "16      17      LEGIT     LEGIT     14.69%\n",
       "17      18      LEGIT     LEGIT     12.83%\n",
       "18      19      LEGIT     LEGIT     14.34%\n",
       "19      20      LEGIT     LEGIT      0.00%"
      ]
     },
     "execution_count": 9,
     "metadata": {},
     "output_type": "execute_result"
    }
   ],
   "source": [
    "# Load scaler and weights\n",
    "#scaler = joblib.load(\"qlearning_scaler.pkl\")\n",
    "weights = np.load(\"qlearning_fraud_weights.npy\")\n",
    "\n",
    "# Prepare data\n",
    "#features = ['amount', 'balance_diff_org', 'balance_diff_dest', 'txn_ratio', 'is_large_txn', 'is_receiver_zero_before']\n",
    "#df = pd.read_csv(\"enhanced_fraud_dataset.csv\")\n",
    "X = df[features]\n",
    "y_true = df['isFraud']\n",
    "X_scaled = scaler.transform(X)\n",
    "\n",
    "# Predict and compare with actual\n",
    "results = []\n",
    "\n",
    "for i in range(20):  # Check top 10 samples\n",
    "    row = X_scaled[i]\n",
    "    pred, conf = predict_fraud_qlearning_with_confidence(row)\n",
    "    results.append({\n",
    "        'Sample': i + 1,\n",
    "        'True Label': 'FRAUD' if y_true.iloc[i] == 1 else 'LEGIT',\n",
    "        'Predicted': 'FRAUD' if pred == 1 else 'LEGIT',\n",
    "        'Confidence': f\"{conf * 100:.2f}%\"\n",
    "    })\n",
    "\n",
    "# Display results\n",
    "pd.DataFrame(results)\n"
   ]
  }
 ],
 "metadata": {
  "kernelspec": {
   "display_name": "diabetes",
   "language": "python",
   "name": "python3"
  },
  "language_info": {
   "codemirror_mode": {
    "name": "ipython",
    "version": 3
   },
   "file_extension": ".py",
   "mimetype": "text/x-python",
   "name": "python",
   "nbconvert_exporter": "python",
   "pygments_lexer": "ipython3",
   "version": "3.8.0"
  }
 },
 "nbformat": 4,
 "nbformat_minor": 5
}
