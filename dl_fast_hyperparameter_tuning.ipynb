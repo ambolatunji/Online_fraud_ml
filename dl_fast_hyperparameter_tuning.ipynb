{
 "cells": [
  {
   "cell_type": "markdown",
   "id": "ea974a13",
   "metadata": {},
   "source": [
    "#  Deep Learning Hyperparameter Tuning (Fast)\n",
    "Using `RandomizedSearchCV` and `KerasTuner` to optimize deep learning models for online fraud detection."
   ]
  },
  {
   "cell_type": "markdown",
   "id": "33076903",
   "metadata": {},
   "source": [
    "## Step 1: Load and Prepare Data"
   ]
  },
  {
   "cell_type": "code",
   "execution_count": null,
   "id": "d758f81b",
   "metadata": {},
   "outputs": [],
   "source": [
    "import pandas as pd\n",
    "from sklearn.model_selection import train_test_split\n",
    "from sklearn.preprocessing import StandardScaler\n",
    "import numpy as np\n",
    "\n",
    "# Load dataset\n",
    "df = pd.read_csv(\"enhanced_online_fraud_dataset.csv\")\n",
    "X = df.drop(columns=['isFraud', 'nameOrig', 'nameDest', 'step'])\n",
    "y = df['isFraud']\n",
    "\n",
    "# Train-test split and scale\n",
    "X_train, X_test, y_train, y_test = train_test_split(X, y, stratify=y, test_size=0.2, random_state=42)\n",
    "scaler = StandardScaler()\n",
    "X_train_scaled = scaler.fit_transform(X_train)\n",
    "X_test_scaled = scaler.transform(X_test)"
   ]
  },
  {
   "cell_type": "markdown",
   "id": "31ee58ce",
   "metadata": {},
   "source": [
    "## Step 2: Define Model for KerasTuner"
   ]
  },
  {
   "cell_type": "code",
   "execution_count": null,
   "id": "d33cb671",
   "metadata": {},
   "outputs": [],
   "source": [
    "import keras_tuner as kt\n",
    "import tensorflow as tf\n",
    "from tensorflow.keras.models import Sequential\n",
    "from tensorflow.keras.layers import Dense, Dropout\n",
    "\n",
    "def build_model(hp):\n",
    "    model = Sequential()\n",
    "    model.add(Dense(hp.Int('units', min_value=32, max_value=256, step=32), activation='relu', input_shape=(X_train_scaled.shape[1],)))\n",
    "    if hp.Boolean(\"dropout\"):\n",
    "        model.add(Dropout(rate=hp.Float(\"dropout_rate\", 0.2, 0.5, step=0.1)))\n",
    "    model.add(Dense(1, activation='sigmoid'))\n",
    "    model.compile(\n",
    "        optimizer=hp.Choice(\"optimizer\", [\"adam\", \"rmsprop\"]),\n",
    "        loss='binary_crossentropy',\n",
    "        metrics=['accuracy']\n",
    "    )\n",
    "    return model"
   ]
  },
  {
   "cell_type": "markdown",
   "id": "cfe2e5a6",
   "metadata": {},
   "source": [
    "## Step 3: Run KerasTuner RandomSearch"
   ]
  },
  {
   "cell_type": "code",
   "execution_count": null,
   "id": "1d13d657",
   "metadata": {},
   "outputs": [],
   "source": [
    "tuner = kt.RandomSearch(\n",
    "    build_model,\n",
    "    objective='val_accuracy',\n",
    "    max_trials=5,\n",
    "    executions_per_trial=1,\n",
    "    directory='kt_tuning',\n",
    "    project_name='fraud_dl_tune'\n",
    ")\n",
    "\n",
    "tuner.search(X_train_scaled, y_train, epochs=10, validation_split=0.2, batch_size=256, verbose=1)"
   ]
  },
  {
   "cell_type": "markdown",
   "id": "13bbda40",
   "metadata": {},
   "source": [
    "## Step 4: Gettin Best Model & Save It"
   ]
  },
  {
   "cell_type": "code",
   "execution_count": null,
   "id": "021e2a2f",
   "metadata": {},
   "outputs": [],
   "source": [
    "best_model = tuner.get_best_models(num_models=1)[0]\n",
    "\n",
    "# Evaluate\n",
    "loss, acc = best_model.evaluate(X_test_scaled, y_test, verbose=0)\n",
    "print(\"Test Accuracy:\", acc)\n",
    "\n",
    "# Save model\n",
    "best_model.save(\"fraud_dl_model.h5\")\n",
    "print(\"✅ Model saved as 'fraud_dl_model.h5'\")"
   ]
  },
  {
   "cell_type": "markdown",
   "id": "ad6bfdf8",
   "metadata": {},
   "source": [
    "## Step 5: prediction usin the uploaded data"
   ]
  },
  {
   "cell_type": "code",
   "execution_count": null,
   "id": "921ab7f4",
   "metadata": {},
   "outputs": [],
   "source": [
    "# Load model for inference\n",
    "from tensorflow.keras.models import load_model\n",
    "\n",
    "model = load_model(\"fraud_dl_model.h5\")\n",
    "\n",
    "# Pick some fraud examples\n",
    "fraud_samples = df[df['isFraud'] == 1].sample(3, random_state=42)\n",
    "fraud_features = fraud_samples.drop(columns=['isFraud', 'nameOrig', 'nameDest', 'step'])\n",
    "\n",
    "# Scale and predict\n",
    "scaled_fraud = scaler.transform(fraud_features)\n",
    "predictions = model.predict(scaled_fraud)\n",
    "\n",
    "# Output predictions\n",
    "for i, prob in enumerate(predictions):\n",
    "    print(f\"Sample {i+1} - Fraud Probability: {prob[0]:.4f}\")"
   ]
  }
 ],
 "metadata": {
  "kernelspec": {
   "display_name": "diabetes",
   "language": "python",
   "name": "python3"
  },
  "language_info": {
   "name": "python",
   "version": "3.8.0"
  }
 },
 "nbformat": 4,
 "nbformat_minor": 5
}
