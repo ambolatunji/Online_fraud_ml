{
 "cells": [
  {
   "cell_type": "code",
   "execution_count": 47,
   "metadata": {},
   "outputs": [],
   "source": [
    "import os\n",
    "import sys\n",
    "import numpy as np\n",
    "import pandas as pd\n",
    "import matplotlib.pyplot as plt\n",
    "from sklearn.model_selection import train_test_split\n",
    "from sklearn.preprocessing import StandardScaler\n",
    "import seaborn as sns\n",
    "\n"
   ]
  },
  {
   "cell_type": "code",
   "execution_count": 48,
   "metadata": {},
   "outputs": [],
   "source": [
    "# Display settings\n",
    "pd.set_option('display.float_format', lambda x: '%.2f' % x)\n",
    "sns.set(style=\"whitegrid\")"
   ]
  },
  {
   "cell_type": "code",
   "execution_count": 49,
   "metadata": {},
   "outputs": [
    {
     "data": {
      "application/vnd.microsoft.datawrangler.viewer.v0+json": {
       "columns": [
        {
         "name": "index",
         "rawType": "int64",
         "type": "integer"
        },
        {
         "name": "step",
         "rawType": "int64",
         "type": "integer"
        },
        {
         "name": "type",
         "rawType": "object",
         "type": "string"
        },
        {
         "name": "amount",
         "rawType": "float64",
         "type": "float"
        },
        {
         "name": "nameOrig",
         "rawType": "object",
         "type": "string"
        },
        {
         "name": "oldbalanceOrg",
         "rawType": "float64",
         "type": "float"
        },
        {
         "name": "newbalanceOrig",
         "rawType": "float64",
         "type": "float"
        },
        {
         "name": "nameDest",
         "rawType": "object",
         "type": "string"
        },
        {
         "name": "oldbalanceDest",
         "rawType": "float64",
         "type": "float"
        },
        {
         "name": "newbalanceDest",
         "rawType": "float64",
         "type": "float"
        },
        {
         "name": "isFraud",
         "rawType": "int64",
         "type": "integer"
        },
        {
         "name": "isFlaggedFraud",
         "rawType": "int64",
         "type": "integer"
        }
       ],
       "conversionMethod": "pd.DataFrame",
       "ref": "5580bafe-abb8-4f3b-a8b7-3c4553f7c349",
       "rows": [
        [
         "0",
         "1",
         "PAYMENT",
         "9839.64",
         "C1231006815",
         "170136.0",
         "160296.36",
         "M1979787155",
         "0.0",
         "0.0",
         "0",
         "0"
        ],
        [
         "1",
         "1",
         "PAYMENT",
         "1864.28",
         "C1666544295",
         "21249.0",
         "19384.72",
         "M2044282225",
         "0.0",
         "0.0",
         "0",
         "0"
        ],
        [
         "2",
         "1",
         "TRANSFER",
         "181.0",
         "C1305486145",
         "181.0",
         "0.0",
         "C553264065",
         "0.0",
         "0.0",
         "1",
         "0"
        ],
        [
         "3",
         "1",
         "CASH_OUT",
         "181.0",
         "C840083671",
         "181.0",
         "0.0",
         "C38997010",
         "21182.0",
         "0.0",
         "1",
         "0"
        ],
        [
         "4",
         "1",
         "PAYMENT",
         "11668.14",
         "C2048537720",
         "41554.0",
         "29885.86",
         "M1230701703",
         "0.0",
         "0.0",
         "0",
         "0"
        ],
        [
         "5",
         "1",
         "PAYMENT",
         "7817.71",
         "C90045638",
         "53860.0",
         "46042.29",
         "M573487274",
         "0.0",
         "0.0",
         "0",
         "0"
        ],
        [
         "6",
         "1",
         "PAYMENT",
         "7107.77",
         "C154988899",
         "183195.0",
         "176087.23",
         "M408069119",
         "0.0",
         "0.0",
         "0",
         "0"
        ],
        [
         "7",
         "1",
         "PAYMENT",
         "7861.64",
         "C1912850431",
         "176087.23",
         "168225.59",
         "M633326333",
         "0.0",
         "0.0",
         "0",
         "0"
        ],
        [
         "8",
         "1",
         "PAYMENT",
         "4024.36",
         "C1265012928",
         "2671.0",
         "0.0",
         "M1176932104",
         "0.0",
         "0.0",
         "0",
         "0"
        ],
        [
         "9",
         "1",
         "DEBIT",
         "5337.77",
         "C712410124",
         "41720.0",
         "36382.23",
         "C195600860",
         "41898.0",
         "40348.79",
         "0",
         "0"
        ],
        [
         "10",
         "1",
         "DEBIT",
         "9644.94",
         "C1900366749",
         "4465.0",
         "0.0",
         "C997608398",
         "10845.0",
         "157982.12",
         "0",
         "0"
        ],
        [
         "11",
         "1",
         "PAYMENT",
         "3099.97",
         "C249177573",
         "20771.0",
         "17671.03",
         "M2096539129",
         "0.0",
         "0.0",
         "0",
         "0"
        ],
        [
         "12",
         "1",
         "PAYMENT",
         "2560.74",
         "C1648232591",
         "5070.0",
         "2509.26",
         "M972865270",
         "0.0",
         "0.0",
         "0",
         "0"
        ],
        [
         "13",
         "1",
         "PAYMENT",
         "11633.76",
         "C1716932897",
         "10127.0",
         "0.0",
         "M801569151",
         "0.0",
         "0.0",
         "0",
         "0"
        ],
        [
         "14",
         "1",
         "PAYMENT",
         "4098.78",
         "C1026483832",
         "503264.0",
         "499165.22",
         "M1635378213",
         "0.0",
         "0.0",
         "0",
         "0"
        ],
        [
         "15",
         "1",
         "CASH_OUT",
         "229133.94",
         "C905080434",
         "15325.0",
         "0.0",
         "C476402209",
         "5083.0",
         "51513.44",
         "0",
         "0"
        ],
        [
         "16",
         "1",
         "PAYMENT",
         "1563.82",
         "C761750706",
         "450.0",
         "0.0",
         "M1731217984",
         "0.0",
         "0.0",
         "0",
         "0"
        ],
        [
         "17",
         "1",
         "PAYMENT",
         "1157.86",
         "C1237762639",
         "21156.0",
         "19998.14",
         "M1877062907",
         "0.0",
         "0.0",
         "0",
         "0"
        ],
        [
         "18",
         "1",
         "PAYMENT",
         "671.64",
         "C2033524545",
         "15123.0",
         "14451.36",
         "M473053293",
         "0.0",
         "0.0",
         "0",
         "0"
        ],
        [
         "19",
         "1",
         "TRANSFER",
         "215310.3",
         "C1670993182",
         "705.0",
         "0.0",
         "C1100439041",
         "22425.0",
         "0.0",
         "0",
         "0"
        ]
       ],
       "shape": {
        "columns": 11,
        "rows": 20
       }
      },
      "text/html": [
       "<div>\n",
       "<style scoped>\n",
       "    .dataframe tbody tr th:only-of-type {\n",
       "        vertical-align: middle;\n",
       "    }\n",
       "\n",
       "    .dataframe tbody tr th {\n",
       "        vertical-align: top;\n",
       "    }\n",
       "\n",
       "    .dataframe thead th {\n",
       "        text-align: right;\n",
       "    }\n",
       "</style>\n",
       "<table border=\"1\" class=\"dataframe\">\n",
       "  <thead>\n",
       "    <tr style=\"text-align: right;\">\n",
       "      <th></th>\n",
       "      <th>step</th>\n",
       "      <th>type</th>\n",
       "      <th>amount</th>\n",
       "      <th>nameOrig</th>\n",
       "      <th>oldbalanceOrg</th>\n",
       "      <th>newbalanceOrig</th>\n",
       "      <th>nameDest</th>\n",
       "      <th>oldbalanceDest</th>\n",
       "      <th>newbalanceDest</th>\n",
       "      <th>isFraud</th>\n",
       "      <th>isFlaggedFraud</th>\n",
       "    </tr>\n",
       "  </thead>\n",
       "  <tbody>\n",
       "    <tr>\n",
       "      <th>0</th>\n",
       "      <td>1</td>\n",
       "      <td>PAYMENT</td>\n",
       "      <td>9839.64</td>\n",
       "      <td>C1231006815</td>\n",
       "      <td>170136.00</td>\n",
       "      <td>160296.36</td>\n",
       "      <td>M1979787155</td>\n",
       "      <td>0.00</td>\n",
       "      <td>0.00</td>\n",
       "      <td>0</td>\n",
       "      <td>0</td>\n",
       "    </tr>\n",
       "    <tr>\n",
       "      <th>1</th>\n",
       "      <td>1</td>\n",
       "      <td>PAYMENT</td>\n",
       "      <td>1864.28</td>\n",
       "      <td>C1666544295</td>\n",
       "      <td>21249.00</td>\n",
       "      <td>19384.72</td>\n",
       "      <td>M2044282225</td>\n",
       "      <td>0.00</td>\n",
       "      <td>0.00</td>\n",
       "      <td>0</td>\n",
       "      <td>0</td>\n",
       "    </tr>\n",
       "    <tr>\n",
       "      <th>2</th>\n",
       "      <td>1</td>\n",
       "      <td>TRANSFER</td>\n",
       "      <td>181.00</td>\n",
       "      <td>C1305486145</td>\n",
       "      <td>181.00</td>\n",
       "      <td>0.00</td>\n",
       "      <td>C553264065</td>\n",
       "      <td>0.00</td>\n",
       "      <td>0.00</td>\n",
       "      <td>1</td>\n",
       "      <td>0</td>\n",
       "    </tr>\n",
       "    <tr>\n",
       "      <th>3</th>\n",
       "      <td>1</td>\n",
       "      <td>CASH_OUT</td>\n",
       "      <td>181.00</td>\n",
       "      <td>C840083671</td>\n",
       "      <td>181.00</td>\n",
       "      <td>0.00</td>\n",
       "      <td>C38997010</td>\n",
       "      <td>21182.00</td>\n",
       "      <td>0.00</td>\n",
       "      <td>1</td>\n",
       "      <td>0</td>\n",
       "    </tr>\n",
       "    <tr>\n",
       "      <th>4</th>\n",
       "      <td>1</td>\n",
       "      <td>PAYMENT</td>\n",
       "      <td>11668.14</td>\n",
       "      <td>C2048537720</td>\n",
       "      <td>41554.00</td>\n",
       "      <td>29885.86</td>\n",
       "      <td>M1230701703</td>\n",
       "      <td>0.00</td>\n",
       "      <td>0.00</td>\n",
       "      <td>0</td>\n",
       "      <td>0</td>\n",
       "    </tr>\n",
       "    <tr>\n",
       "      <th>5</th>\n",
       "      <td>1</td>\n",
       "      <td>PAYMENT</td>\n",
       "      <td>7817.71</td>\n",
       "      <td>C90045638</td>\n",
       "      <td>53860.00</td>\n",
       "      <td>46042.29</td>\n",
       "      <td>M573487274</td>\n",
       "      <td>0.00</td>\n",
       "      <td>0.00</td>\n",
       "      <td>0</td>\n",
       "      <td>0</td>\n",
       "    </tr>\n",
       "    <tr>\n",
       "      <th>6</th>\n",
       "      <td>1</td>\n",
       "      <td>PAYMENT</td>\n",
       "      <td>7107.77</td>\n",
       "      <td>C154988899</td>\n",
       "      <td>183195.00</td>\n",
       "      <td>176087.23</td>\n",
       "      <td>M408069119</td>\n",
       "      <td>0.00</td>\n",
       "      <td>0.00</td>\n",
       "      <td>0</td>\n",
       "      <td>0</td>\n",
       "    </tr>\n",
       "    <tr>\n",
       "      <th>7</th>\n",
       "      <td>1</td>\n",
       "      <td>PAYMENT</td>\n",
       "      <td>7861.64</td>\n",
       "      <td>C1912850431</td>\n",
       "      <td>176087.23</td>\n",
       "      <td>168225.59</td>\n",
       "      <td>M633326333</td>\n",
       "      <td>0.00</td>\n",
       "      <td>0.00</td>\n",
       "      <td>0</td>\n",
       "      <td>0</td>\n",
       "    </tr>\n",
       "    <tr>\n",
       "      <th>8</th>\n",
       "      <td>1</td>\n",
       "      <td>PAYMENT</td>\n",
       "      <td>4024.36</td>\n",
       "      <td>C1265012928</td>\n",
       "      <td>2671.00</td>\n",
       "      <td>0.00</td>\n",
       "      <td>M1176932104</td>\n",
       "      <td>0.00</td>\n",
       "      <td>0.00</td>\n",
       "      <td>0</td>\n",
       "      <td>0</td>\n",
       "    </tr>\n",
       "    <tr>\n",
       "      <th>9</th>\n",
       "      <td>1</td>\n",
       "      <td>DEBIT</td>\n",
       "      <td>5337.77</td>\n",
       "      <td>C712410124</td>\n",
       "      <td>41720.00</td>\n",
       "      <td>36382.23</td>\n",
       "      <td>C195600860</td>\n",
       "      <td>41898.00</td>\n",
       "      <td>40348.79</td>\n",
       "      <td>0</td>\n",
       "      <td>0</td>\n",
       "    </tr>\n",
       "    <tr>\n",
       "      <th>10</th>\n",
       "      <td>1</td>\n",
       "      <td>DEBIT</td>\n",
       "      <td>9644.94</td>\n",
       "      <td>C1900366749</td>\n",
       "      <td>4465.00</td>\n",
       "      <td>0.00</td>\n",
       "      <td>C997608398</td>\n",
       "      <td>10845.00</td>\n",
       "      <td>157982.12</td>\n",
       "      <td>0</td>\n",
       "      <td>0</td>\n",
       "    </tr>\n",
       "    <tr>\n",
       "      <th>11</th>\n",
       "      <td>1</td>\n",
       "      <td>PAYMENT</td>\n",
       "      <td>3099.97</td>\n",
       "      <td>C249177573</td>\n",
       "      <td>20771.00</td>\n",
       "      <td>17671.03</td>\n",
       "      <td>M2096539129</td>\n",
       "      <td>0.00</td>\n",
       "      <td>0.00</td>\n",
       "      <td>0</td>\n",
       "      <td>0</td>\n",
       "    </tr>\n",
       "    <tr>\n",
       "      <th>12</th>\n",
       "      <td>1</td>\n",
       "      <td>PAYMENT</td>\n",
       "      <td>2560.74</td>\n",
       "      <td>C1648232591</td>\n",
       "      <td>5070.00</td>\n",
       "      <td>2509.26</td>\n",
       "      <td>M972865270</td>\n",
       "      <td>0.00</td>\n",
       "      <td>0.00</td>\n",
       "      <td>0</td>\n",
       "      <td>0</td>\n",
       "    </tr>\n",
       "    <tr>\n",
       "      <th>13</th>\n",
       "      <td>1</td>\n",
       "      <td>PAYMENT</td>\n",
       "      <td>11633.76</td>\n",
       "      <td>C1716932897</td>\n",
       "      <td>10127.00</td>\n",
       "      <td>0.00</td>\n",
       "      <td>M801569151</td>\n",
       "      <td>0.00</td>\n",
       "      <td>0.00</td>\n",
       "      <td>0</td>\n",
       "      <td>0</td>\n",
       "    </tr>\n",
       "    <tr>\n",
       "      <th>14</th>\n",
       "      <td>1</td>\n",
       "      <td>PAYMENT</td>\n",
       "      <td>4098.78</td>\n",
       "      <td>C1026483832</td>\n",
       "      <td>503264.00</td>\n",
       "      <td>499165.22</td>\n",
       "      <td>M1635378213</td>\n",
       "      <td>0.00</td>\n",
       "      <td>0.00</td>\n",
       "      <td>0</td>\n",
       "      <td>0</td>\n",
       "    </tr>\n",
       "    <tr>\n",
       "      <th>15</th>\n",
       "      <td>1</td>\n",
       "      <td>CASH_OUT</td>\n",
       "      <td>229133.94</td>\n",
       "      <td>C905080434</td>\n",
       "      <td>15325.00</td>\n",
       "      <td>0.00</td>\n",
       "      <td>C476402209</td>\n",
       "      <td>5083.00</td>\n",
       "      <td>51513.44</td>\n",
       "      <td>0</td>\n",
       "      <td>0</td>\n",
       "    </tr>\n",
       "    <tr>\n",
       "      <th>16</th>\n",
       "      <td>1</td>\n",
       "      <td>PAYMENT</td>\n",
       "      <td>1563.82</td>\n",
       "      <td>C761750706</td>\n",
       "      <td>450.00</td>\n",
       "      <td>0.00</td>\n",
       "      <td>M1731217984</td>\n",
       "      <td>0.00</td>\n",
       "      <td>0.00</td>\n",
       "      <td>0</td>\n",
       "      <td>0</td>\n",
       "    </tr>\n",
       "    <tr>\n",
       "      <th>17</th>\n",
       "      <td>1</td>\n",
       "      <td>PAYMENT</td>\n",
       "      <td>1157.86</td>\n",
       "      <td>C1237762639</td>\n",
       "      <td>21156.00</td>\n",
       "      <td>19998.14</td>\n",
       "      <td>M1877062907</td>\n",
       "      <td>0.00</td>\n",
       "      <td>0.00</td>\n",
       "      <td>0</td>\n",
       "      <td>0</td>\n",
       "    </tr>\n",
       "    <tr>\n",
       "      <th>18</th>\n",
       "      <td>1</td>\n",
       "      <td>PAYMENT</td>\n",
       "      <td>671.64</td>\n",
       "      <td>C2033524545</td>\n",
       "      <td>15123.00</td>\n",
       "      <td>14451.36</td>\n",
       "      <td>M473053293</td>\n",
       "      <td>0.00</td>\n",
       "      <td>0.00</td>\n",
       "      <td>0</td>\n",
       "      <td>0</td>\n",
       "    </tr>\n",
       "    <tr>\n",
       "      <th>19</th>\n",
       "      <td>1</td>\n",
       "      <td>TRANSFER</td>\n",
       "      <td>215310.30</td>\n",
       "      <td>C1670993182</td>\n",
       "      <td>705.00</td>\n",
       "      <td>0.00</td>\n",
       "      <td>C1100439041</td>\n",
       "      <td>22425.00</td>\n",
       "      <td>0.00</td>\n",
       "      <td>0</td>\n",
       "      <td>0</td>\n",
       "    </tr>\n",
       "  </tbody>\n",
       "</table>\n",
       "</div>"
      ],
      "text/plain": [
       "    step      type    amount     nameOrig  oldbalanceOrg  newbalanceOrig  \\\n",
       "0      1   PAYMENT   9839.64  C1231006815      170136.00       160296.36   \n",
       "1      1   PAYMENT   1864.28  C1666544295       21249.00        19384.72   \n",
       "2      1  TRANSFER    181.00  C1305486145         181.00            0.00   \n",
       "3      1  CASH_OUT    181.00   C840083671         181.00            0.00   \n",
       "4      1   PAYMENT  11668.14  C2048537720       41554.00        29885.86   \n",
       "5      1   PAYMENT   7817.71    C90045638       53860.00        46042.29   \n",
       "6      1   PAYMENT   7107.77   C154988899      183195.00       176087.23   \n",
       "7      1   PAYMENT   7861.64  C1912850431      176087.23       168225.59   \n",
       "8      1   PAYMENT   4024.36  C1265012928        2671.00            0.00   \n",
       "9      1     DEBIT   5337.77   C712410124       41720.00        36382.23   \n",
       "10     1     DEBIT   9644.94  C1900366749        4465.00            0.00   \n",
       "11     1   PAYMENT   3099.97   C249177573       20771.00        17671.03   \n",
       "12     1   PAYMENT   2560.74  C1648232591        5070.00         2509.26   \n",
       "13     1   PAYMENT  11633.76  C1716932897       10127.00            0.00   \n",
       "14     1   PAYMENT   4098.78  C1026483832      503264.00       499165.22   \n",
       "15     1  CASH_OUT 229133.94   C905080434       15325.00            0.00   \n",
       "16     1   PAYMENT   1563.82   C761750706         450.00            0.00   \n",
       "17     1   PAYMENT   1157.86  C1237762639       21156.00        19998.14   \n",
       "18     1   PAYMENT    671.64  C2033524545       15123.00        14451.36   \n",
       "19     1  TRANSFER 215310.30  C1670993182         705.00            0.00   \n",
       "\n",
       "       nameDest  oldbalanceDest  newbalanceDest  isFraud  isFlaggedFraud  \n",
       "0   M1979787155            0.00            0.00        0               0  \n",
       "1   M2044282225            0.00            0.00        0               0  \n",
       "2    C553264065            0.00            0.00        1               0  \n",
       "3     C38997010        21182.00            0.00        1               0  \n",
       "4   M1230701703            0.00            0.00        0               0  \n",
       "5    M573487274            0.00            0.00        0               0  \n",
       "6    M408069119            0.00            0.00        0               0  \n",
       "7    M633326333            0.00            0.00        0               0  \n",
       "8   M1176932104            0.00            0.00        0               0  \n",
       "9    C195600860        41898.00        40348.79        0               0  \n",
       "10   C997608398        10845.00       157982.12        0               0  \n",
       "11  M2096539129            0.00            0.00        0               0  \n",
       "12   M972865270            0.00            0.00        0               0  \n",
       "13   M801569151            0.00            0.00        0               0  \n",
       "14  M1635378213            0.00            0.00        0               0  \n",
       "15   C476402209         5083.00        51513.44        0               0  \n",
       "16  M1731217984            0.00            0.00        0               0  \n",
       "17  M1877062907            0.00            0.00        0               0  \n",
       "18   M473053293            0.00            0.00        0               0  \n",
       "19  C1100439041        22425.00            0.00        0               0  "
      ]
     },
     "execution_count": 49,
     "metadata": {},
     "output_type": "execute_result"
    }
   ],
   "source": [
    "df = pd.read_csv('onlinefraud.csv')\n",
    "df.head(20)"
   ]
  },
  {
   "cell_type": "code",
   "execution_count": 50,
   "metadata": {},
   "outputs": [
    {
     "data": {
      "text/plain": [
       "(6362620, 11)"
      ]
     },
     "execution_count": 50,
     "metadata": {},
     "output_type": "execute_result"
    }
   ],
   "source": [
    "df.shape"
   ]
  },
  {
   "cell_type": "code",
   "execution_count": 51,
   "metadata": {},
   "outputs": [
    {
     "name": "stdout",
     "output_type": "stream",
     "text": [
      "<class 'pandas.core.frame.DataFrame'>\n",
      "RangeIndex: 6362620 entries, 0 to 6362619\n",
      "Data columns (total 11 columns):\n",
      " #   Column          Dtype  \n",
      "---  ------          -----  \n",
      " 0   step            int64  \n",
      " 1   type            object \n",
      " 2   amount          float64\n",
      " 3   nameOrig        object \n",
      " 4   oldbalanceOrg   float64\n",
      " 5   newbalanceOrig  float64\n",
      " 6   nameDest        object \n",
      " 7   oldbalanceDest  float64\n",
      " 8   newbalanceDest  float64\n",
      " 9   isFraud         int64  \n",
      " 10  isFlaggedFraud  int64  \n",
      "dtypes: float64(5), int64(3), object(3)\n",
      "memory usage: 534.0+ MB\n"
     ]
    }
   ],
   "source": [
    "df.info()"
   ]
  },
  {
   "cell_type": "code",
   "execution_count": 52,
   "metadata": {},
   "outputs": [
    {
     "data": {
      "application/vnd.microsoft.datawrangler.viewer.v0+json": {
       "columns": [
        {
         "name": "index",
         "rawType": "object",
         "type": "string"
        },
        {
         "name": "step",
         "rawType": "float64",
         "type": "float"
        },
        {
         "name": "amount",
         "rawType": "float64",
         "type": "float"
        },
        {
         "name": "oldbalanceOrg",
         "rawType": "float64",
         "type": "float"
        },
        {
         "name": "newbalanceOrig",
         "rawType": "float64",
         "type": "float"
        },
        {
         "name": "oldbalanceDest",
         "rawType": "float64",
         "type": "float"
        },
        {
         "name": "newbalanceDest",
         "rawType": "float64",
         "type": "float"
        },
        {
         "name": "isFraud",
         "rawType": "float64",
         "type": "float"
        },
        {
         "name": "isFlaggedFraud",
         "rawType": "float64",
         "type": "float"
        }
       ],
       "conversionMethod": "pd.DataFrame",
       "ref": "86dc8472-4a29-4533-ad5d-358dd148f4b5",
       "rows": [
        [
         "count",
         "6362620.0",
         "6362620.0",
         "6362620.0",
         "6362620.0",
         "6362620.0",
         "6362620.0",
         "6362620.0",
         "6362620.0"
        ],
        [
         "mean",
         "243.39724563151657",
         "179861.90354913071",
         "833883.1040744866",
         "855113.6685785869",
         "1100701.6665196486",
         "1224996.3982019299",
         "0.001290820448180152",
         "2.51468734577894e-06"
        ],
        [
         "std",
         "142.33197104912992",
         "603858.2314629358",
         "2888242.6730375555",
         "2924048.5029542665",
         "3399180.1129944767",
         "3674128.9421196356",
         "0.03590479680160413",
         "0.001585774705736547"
        ],
        [
         "min",
         "1.0",
         "0.0",
         "0.0",
         "0.0",
         "0.0",
         "0.0",
         "0.0",
         "0.0"
        ],
        [
         "25%",
         "156.0",
         "13389.57",
         "0.0",
         "0.0",
         "0.0",
         "0.0",
         "0.0",
         "0.0"
        ],
        [
         "50%",
         "239.0",
         "74871.94",
         "14208.0",
         "0.0",
         "132705.66499999998",
         "214661.44",
         "0.0",
         "0.0"
        ],
        [
         "75%",
         "335.0",
         "208721.4775",
         "107315.175",
         "144258.41",
         "943036.7075",
         "1111909.25",
         "0.0",
         "0.0"
        ],
        [
         "max",
         "743.0",
         "92445516.64",
         "59585040.37",
         "49585040.37",
         "356015889.35",
         "356179278.92",
         "1.0",
         "1.0"
        ]
       ],
       "shape": {
        "columns": 8,
        "rows": 8
       }
      },
      "text/html": [
       "<div>\n",
       "<style scoped>\n",
       "    .dataframe tbody tr th:only-of-type {\n",
       "        vertical-align: middle;\n",
       "    }\n",
       "\n",
       "    .dataframe tbody tr th {\n",
       "        vertical-align: top;\n",
       "    }\n",
       "\n",
       "    .dataframe thead th {\n",
       "        text-align: right;\n",
       "    }\n",
       "</style>\n",
       "<table border=\"1\" class=\"dataframe\">\n",
       "  <thead>\n",
       "    <tr style=\"text-align: right;\">\n",
       "      <th></th>\n",
       "      <th>step</th>\n",
       "      <th>amount</th>\n",
       "      <th>oldbalanceOrg</th>\n",
       "      <th>newbalanceOrig</th>\n",
       "      <th>oldbalanceDest</th>\n",
       "      <th>newbalanceDest</th>\n",
       "      <th>isFraud</th>\n",
       "      <th>isFlaggedFraud</th>\n",
       "    </tr>\n",
       "  </thead>\n",
       "  <tbody>\n",
       "    <tr>\n",
       "      <th>count</th>\n",
       "      <td>6362620.00</td>\n",
       "      <td>6362620.00</td>\n",
       "      <td>6362620.00</td>\n",
       "      <td>6362620.00</td>\n",
       "      <td>6362620.00</td>\n",
       "      <td>6362620.00</td>\n",
       "      <td>6362620.00</td>\n",
       "      <td>6362620.00</td>\n",
       "    </tr>\n",
       "    <tr>\n",
       "      <th>mean</th>\n",
       "      <td>243.40</td>\n",
       "      <td>179861.90</td>\n",
       "      <td>833883.10</td>\n",
       "      <td>855113.67</td>\n",
       "      <td>1100701.67</td>\n",
       "      <td>1224996.40</td>\n",
       "      <td>0.00</td>\n",
       "      <td>0.00</td>\n",
       "    </tr>\n",
       "    <tr>\n",
       "      <th>std</th>\n",
       "      <td>142.33</td>\n",
       "      <td>603858.23</td>\n",
       "      <td>2888242.67</td>\n",
       "      <td>2924048.50</td>\n",
       "      <td>3399180.11</td>\n",
       "      <td>3674128.94</td>\n",
       "      <td>0.04</td>\n",
       "      <td>0.00</td>\n",
       "    </tr>\n",
       "    <tr>\n",
       "      <th>min</th>\n",
       "      <td>1.00</td>\n",
       "      <td>0.00</td>\n",
       "      <td>0.00</td>\n",
       "      <td>0.00</td>\n",
       "      <td>0.00</td>\n",
       "      <td>0.00</td>\n",
       "      <td>0.00</td>\n",
       "      <td>0.00</td>\n",
       "    </tr>\n",
       "    <tr>\n",
       "      <th>25%</th>\n",
       "      <td>156.00</td>\n",
       "      <td>13389.57</td>\n",
       "      <td>0.00</td>\n",
       "      <td>0.00</td>\n",
       "      <td>0.00</td>\n",
       "      <td>0.00</td>\n",
       "      <td>0.00</td>\n",
       "      <td>0.00</td>\n",
       "    </tr>\n",
       "    <tr>\n",
       "      <th>50%</th>\n",
       "      <td>239.00</td>\n",
       "      <td>74871.94</td>\n",
       "      <td>14208.00</td>\n",
       "      <td>0.00</td>\n",
       "      <td>132705.66</td>\n",
       "      <td>214661.44</td>\n",
       "      <td>0.00</td>\n",
       "      <td>0.00</td>\n",
       "    </tr>\n",
       "    <tr>\n",
       "      <th>75%</th>\n",
       "      <td>335.00</td>\n",
       "      <td>208721.48</td>\n",
       "      <td>107315.18</td>\n",
       "      <td>144258.41</td>\n",
       "      <td>943036.71</td>\n",
       "      <td>1111909.25</td>\n",
       "      <td>0.00</td>\n",
       "      <td>0.00</td>\n",
       "    </tr>\n",
       "    <tr>\n",
       "      <th>max</th>\n",
       "      <td>743.00</td>\n",
       "      <td>92445516.64</td>\n",
       "      <td>59585040.37</td>\n",
       "      <td>49585040.37</td>\n",
       "      <td>356015889.35</td>\n",
       "      <td>356179278.92</td>\n",
       "      <td>1.00</td>\n",
       "      <td>1.00</td>\n",
       "    </tr>\n",
       "  </tbody>\n",
       "</table>\n",
       "</div>"
      ],
      "text/plain": [
       "            step      amount  oldbalanceOrg  newbalanceOrig  oldbalanceDest  \\\n",
       "count 6362620.00  6362620.00     6362620.00      6362620.00      6362620.00   \n",
       "mean      243.40   179861.90      833883.10       855113.67      1100701.67   \n",
       "std       142.33   603858.23     2888242.67      2924048.50      3399180.11   \n",
       "min         1.00        0.00           0.00            0.00            0.00   \n",
       "25%       156.00    13389.57           0.00            0.00            0.00   \n",
       "50%       239.00    74871.94       14208.00            0.00       132705.66   \n",
       "75%       335.00   208721.48      107315.18       144258.41       943036.71   \n",
       "max       743.00 92445516.64    59585040.37     49585040.37    356015889.35   \n",
       "\n",
       "       newbalanceDest    isFraud  isFlaggedFraud  \n",
       "count      6362620.00 6362620.00      6362620.00  \n",
       "mean       1224996.40       0.00            0.00  \n",
       "std        3674128.94       0.04            0.00  \n",
       "min              0.00       0.00            0.00  \n",
       "25%              0.00       0.00            0.00  \n",
       "50%         214661.44       0.00            0.00  \n",
       "75%        1111909.25       0.00            0.00  \n",
       "max      356179278.92       1.00            1.00  "
      ]
     },
     "execution_count": 52,
     "metadata": {},
     "output_type": "execute_result"
    }
   ],
   "source": [
    "df.describe()"
   ]
  },
  {
   "cell_type": "markdown",
   "metadata": {},
   "source": [
    "Understanding the Dataset\n",
    "\n",
    "\n",
    "To identify online payment fraud using machine learning, we need to train a model to classify transactions as fraudulent or non-fraudulent. This requires a dataset containing information about online payment fraud, which helps us understand the characteristics of fraudulent transactions.\n",
    "\n",
    "Dataset Columns\n",
    "\n",
    "\n",
    "The dataset used in this analysis contains the following columns:\n",
    "\n",
    "Transaction Information\n",
    "- step: represents a unit of time, where 1 step equals 1 hour\n",
    "- type: type of online transaction\n",
    "- amount: the amount of the transaction\n",
    "\n",
    "Originator Information\n",
    "- nameOrig: customer starting the transaction\n",
    "- oldbalanceOrg: balance before the transaction\n",
    "- newbalanceOrig: balance after the transaction\n",
    "\n",
    "Recipient Information\n",
    "- nameDest: recipient of the transaction\n",
    "- oldbalanceDest: initial balance of recipient before the transaction\n",
    "- newbalanceDest: the new balance of recipient after the transaction\n",
    "\n",
    "Fraud Label\n",
    "- isFraud: indicates whether the transaction is fraudulent (1) or not (0)\n"
   ]
  },
  {
   "cell_type": "code",
   "execution_count": 53,
   "metadata": {},
   "outputs": [],
   "source": [
    "# Feature engineering \n",
    "df['balanceDiffOrig'] = df['oldbalanceOrg'] - df['newbalanceOrig'] \n",
    "df['balanceDiffDest'] = df['newbalanceDest'] - df['oldbalanceDest']"
   ]
  },
  {
   "cell_type": "code",
   "execution_count": 54,
   "metadata": {},
   "outputs": [
    {
     "data": {
      "application/vnd.microsoft.datawrangler.viewer.v0+json": {
       "columns": [
        {
         "name": "index",
         "rawType": "int64",
         "type": "integer"
        },
        {
         "name": "step",
         "rawType": "int64",
         "type": "integer"
        },
        {
         "name": "type",
         "rawType": "object",
         "type": "string"
        },
        {
         "name": "amount",
         "rawType": "float64",
         "type": "float"
        },
        {
         "name": "nameOrig",
         "rawType": "object",
         "type": "string"
        },
        {
         "name": "oldbalanceOrg",
         "rawType": "float64",
         "type": "float"
        },
        {
         "name": "newbalanceOrig",
         "rawType": "float64",
         "type": "float"
        },
        {
         "name": "nameDest",
         "rawType": "object",
         "type": "string"
        },
        {
         "name": "oldbalanceDest",
         "rawType": "float64",
         "type": "float"
        },
        {
         "name": "newbalanceDest",
         "rawType": "float64",
         "type": "float"
        },
        {
         "name": "isFraud",
         "rawType": "int64",
         "type": "integer"
        },
        {
         "name": "isFlaggedFraud",
         "rawType": "int64",
         "type": "integer"
        },
        {
         "name": "balanceDiffOrig",
         "rawType": "float64",
         "type": "float"
        },
        {
         "name": "balanceDiffDest",
         "rawType": "float64",
         "type": "float"
        }
       ],
       "conversionMethod": "pd.DataFrame",
       "ref": "cdd8ab74-a4cc-49c2-a76e-26e74e5b6ec3",
       "rows": [
        [
         "0",
         "1",
         "PAYMENT",
         "9839.64",
         "C1231006815",
         "170136.0",
         "160296.36",
         "M1979787155",
         "0.0",
         "0.0",
         "0",
         "0",
         "9839.640000000014",
         "0.0"
        ],
        [
         "1",
         "1",
         "PAYMENT",
         "1864.28",
         "C1666544295",
         "21249.0",
         "19384.72",
         "M2044282225",
         "0.0",
         "0.0",
         "0",
         "0",
         "1864.2799999999988",
         "0.0"
        ],
        [
         "2",
         "1",
         "TRANSFER",
         "181.0",
         "C1305486145",
         "181.0",
         "0.0",
         "C553264065",
         "0.0",
         "0.0",
         "1",
         "0",
         "181.0",
         "0.0"
        ],
        [
         "3",
         "1",
         "CASH_OUT",
         "181.0",
         "C840083671",
         "181.0",
         "0.0",
         "C38997010",
         "21182.0",
         "0.0",
         "1",
         "0",
         "181.0",
         "-21182.0"
        ],
        [
         "4",
         "1",
         "PAYMENT",
         "11668.14",
         "C2048537720",
         "41554.0",
         "29885.86",
         "M1230701703",
         "0.0",
         "0.0",
         "0",
         "0",
         "11668.14",
         "0.0"
        ],
        [
         "5",
         "1",
         "PAYMENT",
         "7817.71",
         "C90045638",
         "53860.0",
         "46042.29",
         "M573487274",
         "0.0",
         "0.0",
         "0",
         "0",
         "7817.709999999999",
         "0.0"
        ],
        [
         "6",
         "1",
         "PAYMENT",
         "7107.77",
         "C154988899",
         "183195.0",
         "176087.23",
         "M408069119",
         "0.0",
         "0.0",
         "0",
         "0",
         "7107.7699999999895",
         "0.0"
        ],
        [
         "7",
         "1",
         "PAYMENT",
         "7861.64",
         "C1912850431",
         "176087.23",
         "168225.59",
         "M633326333",
         "0.0",
         "0.0",
         "0",
         "0",
         "7861.640000000014",
         "0.0"
        ],
        [
         "8",
         "1",
         "PAYMENT",
         "4024.36",
         "C1265012928",
         "2671.0",
         "0.0",
         "M1176932104",
         "0.0",
         "0.0",
         "0",
         "0",
         "2671.0",
         "0.0"
        ],
        [
         "9",
         "1",
         "DEBIT",
         "5337.77",
         "C712410124",
         "41720.0",
         "36382.23",
         "C195600860",
         "41898.0",
         "40348.79",
         "0",
         "0",
         "5337.769999999997",
         "-1549.2099999999991"
        ],
        [
         "10",
         "1",
         "DEBIT",
         "9644.94",
         "C1900366749",
         "4465.0",
         "0.0",
         "C997608398",
         "10845.0",
         "157982.12",
         "0",
         "0",
         "4465.0",
         "147137.12"
        ],
        [
         "11",
         "1",
         "PAYMENT",
         "3099.97",
         "C249177573",
         "20771.0",
         "17671.03",
         "M2096539129",
         "0.0",
         "0.0",
         "0",
         "0",
         "3099.970000000001",
         "0.0"
        ],
        [
         "12",
         "1",
         "PAYMENT",
         "2560.74",
         "C1648232591",
         "5070.0",
         "2509.26",
         "M972865270",
         "0.0",
         "0.0",
         "0",
         "0",
         "2560.74",
         "0.0"
        ],
        [
         "13",
         "1",
         "PAYMENT",
         "11633.76",
         "C1716932897",
         "10127.0",
         "0.0",
         "M801569151",
         "0.0",
         "0.0",
         "0",
         "0",
         "10127.0",
         "0.0"
        ],
        [
         "14",
         "1",
         "PAYMENT",
         "4098.78",
         "C1026483832",
         "503264.0",
         "499165.22",
         "M1635378213",
         "0.0",
         "0.0",
         "0",
         "0",
         "4098.780000000028",
         "0.0"
        ],
        [
         "15",
         "1",
         "CASH_OUT",
         "229133.94",
         "C905080434",
         "15325.0",
         "0.0",
         "C476402209",
         "5083.0",
         "51513.44",
         "0",
         "0",
         "15325.0",
         "46430.44"
        ],
        [
         "16",
         "1",
         "PAYMENT",
         "1563.82",
         "C761750706",
         "450.0",
         "0.0",
         "M1731217984",
         "0.0",
         "0.0",
         "0",
         "0",
         "450.0",
         "0.0"
        ],
        [
         "17",
         "1",
         "PAYMENT",
         "1157.86",
         "C1237762639",
         "21156.0",
         "19998.14",
         "M1877062907",
         "0.0",
         "0.0",
         "0",
         "0",
         "1157.8600000000006",
         "0.0"
        ],
        [
         "18",
         "1",
         "PAYMENT",
         "671.64",
         "C2033524545",
         "15123.0",
         "14451.36",
         "M473053293",
         "0.0",
         "0.0",
         "0",
         "0",
         "671.6399999999994",
         "0.0"
        ],
        [
         "19",
         "1",
         "TRANSFER",
         "215310.3",
         "C1670993182",
         "705.0",
         "0.0",
         "C1100439041",
         "22425.0",
         "0.0",
         "0",
         "0",
         "705.0",
         "-22425.0"
        ]
       ],
       "shape": {
        "columns": 13,
        "rows": 20
       }
      },
      "text/html": [
       "<div>\n",
       "<style scoped>\n",
       "    .dataframe tbody tr th:only-of-type {\n",
       "        vertical-align: middle;\n",
       "    }\n",
       "\n",
       "    .dataframe tbody tr th {\n",
       "        vertical-align: top;\n",
       "    }\n",
       "\n",
       "    .dataframe thead th {\n",
       "        text-align: right;\n",
       "    }\n",
       "</style>\n",
       "<table border=\"1\" class=\"dataframe\">\n",
       "  <thead>\n",
       "    <tr style=\"text-align: right;\">\n",
       "      <th></th>\n",
       "      <th>step</th>\n",
       "      <th>type</th>\n",
       "      <th>amount</th>\n",
       "      <th>nameOrig</th>\n",
       "      <th>oldbalanceOrg</th>\n",
       "      <th>newbalanceOrig</th>\n",
       "      <th>nameDest</th>\n",
       "      <th>oldbalanceDest</th>\n",
       "      <th>newbalanceDest</th>\n",
       "      <th>isFraud</th>\n",
       "      <th>isFlaggedFraud</th>\n",
       "      <th>balanceDiffOrig</th>\n",
       "      <th>balanceDiffDest</th>\n",
       "    </tr>\n",
       "  </thead>\n",
       "  <tbody>\n",
       "    <tr>\n",
       "      <th>0</th>\n",
       "      <td>1</td>\n",
       "      <td>PAYMENT</td>\n",
       "      <td>9839.64</td>\n",
       "      <td>C1231006815</td>\n",
       "      <td>170136.00</td>\n",
       "      <td>160296.36</td>\n",
       "      <td>M1979787155</td>\n",
       "      <td>0.00</td>\n",
       "      <td>0.00</td>\n",
       "      <td>0</td>\n",
       "      <td>0</td>\n",
       "      <td>9839.64</td>\n",
       "      <td>0.00</td>\n",
       "    </tr>\n",
       "    <tr>\n",
       "      <th>1</th>\n",
       "      <td>1</td>\n",
       "      <td>PAYMENT</td>\n",
       "      <td>1864.28</td>\n",
       "      <td>C1666544295</td>\n",
       "      <td>21249.00</td>\n",
       "      <td>19384.72</td>\n",
       "      <td>M2044282225</td>\n",
       "      <td>0.00</td>\n",
       "      <td>0.00</td>\n",
       "      <td>0</td>\n",
       "      <td>0</td>\n",
       "      <td>1864.28</td>\n",
       "      <td>0.00</td>\n",
       "    </tr>\n",
       "    <tr>\n",
       "      <th>2</th>\n",
       "      <td>1</td>\n",
       "      <td>TRANSFER</td>\n",
       "      <td>181.00</td>\n",
       "      <td>C1305486145</td>\n",
       "      <td>181.00</td>\n",
       "      <td>0.00</td>\n",
       "      <td>C553264065</td>\n",
       "      <td>0.00</td>\n",
       "      <td>0.00</td>\n",
       "      <td>1</td>\n",
       "      <td>0</td>\n",
       "      <td>181.00</td>\n",
       "      <td>0.00</td>\n",
       "    </tr>\n",
       "    <tr>\n",
       "      <th>3</th>\n",
       "      <td>1</td>\n",
       "      <td>CASH_OUT</td>\n",
       "      <td>181.00</td>\n",
       "      <td>C840083671</td>\n",
       "      <td>181.00</td>\n",
       "      <td>0.00</td>\n",
       "      <td>C38997010</td>\n",
       "      <td>21182.00</td>\n",
       "      <td>0.00</td>\n",
       "      <td>1</td>\n",
       "      <td>0</td>\n",
       "      <td>181.00</td>\n",
       "      <td>-21182.00</td>\n",
       "    </tr>\n",
       "    <tr>\n",
       "      <th>4</th>\n",
       "      <td>1</td>\n",
       "      <td>PAYMENT</td>\n",
       "      <td>11668.14</td>\n",
       "      <td>C2048537720</td>\n",
       "      <td>41554.00</td>\n",
       "      <td>29885.86</td>\n",
       "      <td>M1230701703</td>\n",
       "      <td>0.00</td>\n",
       "      <td>0.00</td>\n",
       "      <td>0</td>\n",
       "      <td>0</td>\n",
       "      <td>11668.14</td>\n",
       "      <td>0.00</td>\n",
       "    </tr>\n",
       "    <tr>\n",
       "      <th>5</th>\n",
       "      <td>1</td>\n",
       "      <td>PAYMENT</td>\n",
       "      <td>7817.71</td>\n",
       "      <td>C90045638</td>\n",
       "      <td>53860.00</td>\n",
       "      <td>46042.29</td>\n",
       "      <td>M573487274</td>\n",
       "      <td>0.00</td>\n",
       "      <td>0.00</td>\n",
       "      <td>0</td>\n",
       "      <td>0</td>\n",
       "      <td>7817.71</td>\n",
       "      <td>0.00</td>\n",
       "    </tr>\n",
       "    <tr>\n",
       "      <th>6</th>\n",
       "      <td>1</td>\n",
       "      <td>PAYMENT</td>\n",
       "      <td>7107.77</td>\n",
       "      <td>C154988899</td>\n",
       "      <td>183195.00</td>\n",
       "      <td>176087.23</td>\n",
       "      <td>M408069119</td>\n",
       "      <td>0.00</td>\n",
       "      <td>0.00</td>\n",
       "      <td>0</td>\n",
       "      <td>0</td>\n",
       "      <td>7107.77</td>\n",
       "      <td>0.00</td>\n",
       "    </tr>\n",
       "    <tr>\n",
       "      <th>7</th>\n",
       "      <td>1</td>\n",
       "      <td>PAYMENT</td>\n",
       "      <td>7861.64</td>\n",
       "      <td>C1912850431</td>\n",
       "      <td>176087.23</td>\n",
       "      <td>168225.59</td>\n",
       "      <td>M633326333</td>\n",
       "      <td>0.00</td>\n",
       "      <td>0.00</td>\n",
       "      <td>0</td>\n",
       "      <td>0</td>\n",
       "      <td>7861.64</td>\n",
       "      <td>0.00</td>\n",
       "    </tr>\n",
       "    <tr>\n",
       "      <th>8</th>\n",
       "      <td>1</td>\n",
       "      <td>PAYMENT</td>\n",
       "      <td>4024.36</td>\n",
       "      <td>C1265012928</td>\n",
       "      <td>2671.00</td>\n",
       "      <td>0.00</td>\n",
       "      <td>M1176932104</td>\n",
       "      <td>0.00</td>\n",
       "      <td>0.00</td>\n",
       "      <td>0</td>\n",
       "      <td>0</td>\n",
       "      <td>2671.00</td>\n",
       "      <td>0.00</td>\n",
       "    </tr>\n",
       "    <tr>\n",
       "      <th>9</th>\n",
       "      <td>1</td>\n",
       "      <td>DEBIT</td>\n",
       "      <td>5337.77</td>\n",
       "      <td>C712410124</td>\n",
       "      <td>41720.00</td>\n",
       "      <td>36382.23</td>\n",
       "      <td>C195600860</td>\n",
       "      <td>41898.00</td>\n",
       "      <td>40348.79</td>\n",
       "      <td>0</td>\n",
       "      <td>0</td>\n",
       "      <td>5337.77</td>\n",
       "      <td>-1549.21</td>\n",
       "    </tr>\n",
       "    <tr>\n",
       "      <th>10</th>\n",
       "      <td>1</td>\n",
       "      <td>DEBIT</td>\n",
       "      <td>9644.94</td>\n",
       "      <td>C1900366749</td>\n",
       "      <td>4465.00</td>\n",
       "      <td>0.00</td>\n",
       "      <td>C997608398</td>\n",
       "      <td>10845.00</td>\n",
       "      <td>157982.12</td>\n",
       "      <td>0</td>\n",
       "      <td>0</td>\n",
       "      <td>4465.00</td>\n",
       "      <td>147137.12</td>\n",
       "    </tr>\n",
       "    <tr>\n",
       "      <th>11</th>\n",
       "      <td>1</td>\n",
       "      <td>PAYMENT</td>\n",
       "      <td>3099.97</td>\n",
       "      <td>C249177573</td>\n",
       "      <td>20771.00</td>\n",
       "      <td>17671.03</td>\n",
       "      <td>M2096539129</td>\n",
       "      <td>0.00</td>\n",
       "      <td>0.00</td>\n",
       "      <td>0</td>\n",
       "      <td>0</td>\n",
       "      <td>3099.97</td>\n",
       "      <td>0.00</td>\n",
       "    </tr>\n",
       "    <tr>\n",
       "      <th>12</th>\n",
       "      <td>1</td>\n",
       "      <td>PAYMENT</td>\n",
       "      <td>2560.74</td>\n",
       "      <td>C1648232591</td>\n",
       "      <td>5070.00</td>\n",
       "      <td>2509.26</td>\n",
       "      <td>M972865270</td>\n",
       "      <td>0.00</td>\n",
       "      <td>0.00</td>\n",
       "      <td>0</td>\n",
       "      <td>0</td>\n",
       "      <td>2560.74</td>\n",
       "      <td>0.00</td>\n",
       "    </tr>\n",
       "    <tr>\n",
       "      <th>13</th>\n",
       "      <td>1</td>\n",
       "      <td>PAYMENT</td>\n",
       "      <td>11633.76</td>\n",
       "      <td>C1716932897</td>\n",
       "      <td>10127.00</td>\n",
       "      <td>0.00</td>\n",
       "      <td>M801569151</td>\n",
       "      <td>0.00</td>\n",
       "      <td>0.00</td>\n",
       "      <td>0</td>\n",
       "      <td>0</td>\n",
       "      <td>10127.00</td>\n",
       "      <td>0.00</td>\n",
       "    </tr>\n",
       "    <tr>\n",
       "      <th>14</th>\n",
       "      <td>1</td>\n",
       "      <td>PAYMENT</td>\n",
       "      <td>4098.78</td>\n",
       "      <td>C1026483832</td>\n",
       "      <td>503264.00</td>\n",
       "      <td>499165.22</td>\n",
       "      <td>M1635378213</td>\n",
       "      <td>0.00</td>\n",
       "      <td>0.00</td>\n",
       "      <td>0</td>\n",
       "      <td>0</td>\n",
       "      <td>4098.78</td>\n",
       "      <td>0.00</td>\n",
       "    </tr>\n",
       "    <tr>\n",
       "      <th>15</th>\n",
       "      <td>1</td>\n",
       "      <td>CASH_OUT</td>\n",
       "      <td>229133.94</td>\n",
       "      <td>C905080434</td>\n",
       "      <td>15325.00</td>\n",
       "      <td>0.00</td>\n",
       "      <td>C476402209</td>\n",
       "      <td>5083.00</td>\n",
       "      <td>51513.44</td>\n",
       "      <td>0</td>\n",
       "      <td>0</td>\n",
       "      <td>15325.00</td>\n",
       "      <td>46430.44</td>\n",
       "    </tr>\n",
       "    <tr>\n",
       "      <th>16</th>\n",
       "      <td>1</td>\n",
       "      <td>PAYMENT</td>\n",
       "      <td>1563.82</td>\n",
       "      <td>C761750706</td>\n",
       "      <td>450.00</td>\n",
       "      <td>0.00</td>\n",
       "      <td>M1731217984</td>\n",
       "      <td>0.00</td>\n",
       "      <td>0.00</td>\n",
       "      <td>0</td>\n",
       "      <td>0</td>\n",
       "      <td>450.00</td>\n",
       "      <td>0.00</td>\n",
       "    </tr>\n",
       "    <tr>\n",
       "      <th>17</th>\n",
       "      <td>1</td>\n",
       "      <td>PAYMENT</td>\n",
       "      <td>1157.86</td>\n",
       "      <td>C1237762639</td>\n",
       "      <td>21156.00</td>\n",
       "      <td>19998.14</td>\n",
       "      <td>M1877062907</td>\n",
       "      <td>0.00</td>\n",
       "      <td>0.00</td>\n",
       "      <td>0</td>\n",
       "      <td>0</td>\n",
       "      <td>1157.86</td>\n",
       "      <td>0.00</td>\n",
       "    </tr>\n",
       "    <tr>\n",
       "      <th>18</th>\n",
       "      <td>1</td>\n",
       "      <td>PAYMENT</td>\n",
       "      <td>671.64</td>\n",
       "      <td>C2033524545</td>\n",
       "      <td>15123.00</td>\n",
       "      <td>14451.36</td>\n",
       "      <td>M473053293</td>\n",
       "      <td>0.00</td>\n",
       "      <td>0.00</td>\n",
       "      <td>0</td>\n",
       "      <td>0</td>\n",
       "      <td>671.64</td>\n",
       "      <td>0.00</td>\n",
       "    </tr>\n",
       "    <tr>\n",
       "      <th>19</th>\n",
       "      <td>1</td>\n",
       "      <td>TRANSFER</td>\n",
       "      <td>215310.30</td>\n",
       "      <td>C1670993182</td>\n",
       "      <td>705.00</td>\n",
       "      <td>0.00</td>\n",
       "      <td>C1100439041</td>\n",
       "      <td>22425.00</td>\n",
       "      <td>0.00</td>\n",
       "      <td>0</td>\n",
       "      <td>0</td>\n",
       "      <td>705.00</td>\n",
       "      <td>-22425.00</td>\n",
       "    </tr>\n",
       "  </tbody>\n",
       "</table>\n",
       "</div>"
      ],
      "text/plain": [
       "    step      type    amount     nameOrig  oldbalanceOrg  newbalanceOrig  \\\n",
       "0      1   PAYMENT   9839.64  C1231006815      170136.00       160296.36   \n",
       "1      1   PAYMENT   1864.28  C1666544295       21249.00        19384.72   \n",
       "2      1  TRANSFER    181.00  C1305486145         181.00            0.00   \n",
       "3      1  CASH_OUT    181.00   C840083671         181.00            0.00   \n",
       "4      1   PAYMENT  11668.14  C2048537720       41554.00        29885.86   \n",
       "5      1   PAYMENT   7817.71    C90045638       53860.00        46042.29   \n",
       "6      1   PAYMENT   7107.77   C154988899      183195.00       176087.23   \n",
       "7      1   PAYMENT   7861.64  C1912850431      176087.23       168225.59   \n",
       "8      1   PAYMENT   4024.36  C1265012928        2671.00            0.00   \n",
       "9      1     DEBIT   5337.77   C712410124       41720.00        36382.23   \n",
       "10     1     DEBIT   9644.94  C1900366749        4465.00            0.00   \n",
       "11     1   PAYMENT   3099.97   C249177573       20771.00        17671.03   \n",
       "12     1   PAYMENT   2560.74  C1648232591        5070.00         2509.26   \n",
       "13     1   PAYMENT  11633.76  C1716932897       10127.00            0.00   \n",
       "14     1   PAYMENT   4098.78  C1026483832      503264.00       499165.22   \n",
       "15     1  CASH_OUT 229133.94   C905080434       15325.00            0.00   \n",
       "16     1   PAYMENT   1563.82   C761750706         450.00            0.00   \n",
       "17     1   PAYMENT   1157.86  C1237762639       21156.00        19998.14   \n",
       "18     1   PAYMENT    671.64  C2033524545       15123.00        14451.36   \n",
       "19     1  TRANSFER 215310.30  C1670993182         705.00            0.00   \n",
       "\n",
       "       nameDest  oldbalanceDest  newbalanceDest  isFraud  isFlaggedFraud  \\\n",
       "0   M1979787155            0.00            0.00        0               0   \n",
       "1   M2044282225            0.00            0.00        0               0   \n",
       "2    C553264065            0.00            0.00        1               0   \n",
       "3     C38997010        21182.00            0.00        1               0   \n",
       "4   M1230701703            0.00            0.00        0               0   \n",
       "5    M573487274            0.00            0.00        0               0   \n",
       "6    M408069119            0.00            0.00        0               0   \n",
       "7    M633326333            0.00            0.00        0               0   \n",
       "8   M1176932104            0.00            0.00        0               0   \n",
       "9    C195600860        41898.00        40348.79        0               0   \n",
       "10   C997608398        10845.00       157982.12        0               0   \n",
       "11  M2096539129            0.00            0.00        0               0   \n",
       "12   M972865270            0.00            0.00        0               0   \n",
       "13   M801569151            0.00            0.00        0               0   \n",
       "14  M1635378213            0.00            0.00        0               0   \n",
       "15   C476402209         5083.00        51513.44        0               0   \n",
       "16  M1731217984            0.00            0.00        0               0   \n",
       "17  M1877062907            0.00            0.00        0               0   \n",
       "18   M473053293            0.00            0.00        0               0   \n",
       "19  C1100439041        22425.00            0.00        0               0   \n",
       "\n",
       "    balanceDiffOrig  balanceDiffDest  \n",
       "0           9839.64             0.00  \n",
       "1           1864.28             0.00  \n",
       "2            181.00             0.00  \n",
       "3            181.00        -21182.00  \n",
       "4          11668.14             0.00  \n",
       "5           7817.71             0.00  \n",
       "6           7107.77             0.00  \n",
       "7           7861.64             0.00  \n",
       "8           2671.00             0.00  \n",
       "9           5337.77         -1549.21  \n",
       "10          4465.00        147137.12  \n",
       "11          3099.97             0.00  \n",
       "12          2560.74             0.00  \n",
       "13         10127.00             0.00  \n",
       "14          4098.78             0.00  \n",
       "15         15325.00         46430.44  \n",
       "16           450.00             0.00  \n",
       "17          1157.86             0.00  \n",
       "18           671.64             0.00  \n",
       "19           705.00        -22425.00  "
      ]
     },
     "execution_count": 54,
     "metadata": {},
     "output_type": "execute_result"
    }
   ],
   "source": [
    "df.head(20)"
   ]
  },
  {
   "cell_type": "code",
   "execution_count": 55,
   "metadata": {},
   "outputs": [
    {
     "data": {
      "text/plain": [
       "step               0\n",
       "type               0\n",
       "amount             0\n",
       "nameOrig           0\n",
       "oldbalanceOrg      0\n",
       "newbalanceOrig     0\n",
       "nameDest           0\n",
       "oldbalanceDest     0\n",
       "newbalanceDest     0\n",
       "isFraud            0\n",
       "isFlaggedFraud     0\n",
       "balanceDiffOrig    0\n",
       "balanceDiffDest    0\n",
       "dtype: int64"
      ]
     },
     "execution_count": 55,
     "metadata": {},
     "output_type": "execute_result"
    }
   ],
   "source": [
    "df.isnull().sum()"
   ]
  },
  {
   "cell_type": "markdown",
   "metadata": {},
   "source": [
    "#EDA"
   ]
  },
  {
   "cell_type": "code",
   "execution_count": 56,
   "metadata": {},
   "outputs": [
    {
     "data": {
      "image/png": "[encoded data removed]",
      "text/plain": [
       "<Figure size 800x500 with 1 Axes>"
      ]
     },
     "metadata": {},
     "output_type": "display_data"
    }
   ],
   "source": [
    "# Distribution of Transaction Types\n",
    "plt.figure(figsize=(8, 5))\n",
    "sns.countplot(data=df, x='type', order=df['type'].value_counts().index)\n",
    "plt.title('Transaction Types Count')\n",
    "plt.xticks(rotation=45)\n",
    "plt.tight_layout()\n",
    "plt.show()"
   ]
  },
  {
   "cell_type": "markdown",
   "metadata": {},
   "source": [
    "### 1. **Transaction Type Distribution**\n",
    "- The most frequent transaction types are:\n",
    "  - `CASH_OUT` and `PAYMENT` – each over 2 million occurrences.\n",
    "  - Followed by `CASH_IN` and `TRANSFER`.\n",
    "  - `DEBIT` is extremely rare.\n",
    "\n",
    "**💡Focus fraud detection models and rules on `CASH_OUT` and `TRANSFER`, as they dominate the transaction flow**."
   ]
  },
  {
   "cell_type": "code",
   "execution_count": 57,
   "metadata": {},
   "outputs": [
    {
     "data": {
      "image/png": "[encoded data removed]",
      "text/plain": [
       "<Figure size 600x400 with 1 Axes>"
      ]
     },
     "metadata": {},
     "output_type": "display_data"
    }
   ],
   "source": [
    "# Fraud vs Non-Fraud count\n",
    "plt.figure(figsize=(6, 4))\n",
    "sns.countplot(data=df, x='isFraud')\n",
    "plt.title('Fraudulent vs Non-Fraudulent Transactions')\n",
    "plt.xticks([0, 1], ['Non-Fraud', 'Fraud'])\n",
    "plt.tight_layout()\n",
    "plt.show()"
   ]
  },
  {
   "cell_type": "markdown",
   "metadata": {},
   "source": [
    "### 2. **Fraud vs Non-Fraud Count**\n",
    "- Fraudulent transactions are **extremely rare** compared to non-fraudulent ones.\n",
    "- Class imbalance is significant — with only a **tiny fraction labeled as fraud**.\n",
    "\n",
    "**💡This imbalance will require special handling (e.g., resampling, anomaly detection) to avoid bias in predictive models.**"
   ]
  },
  {
   "cell_type": "code",
   "execution_count": 58,
   "metadata": {},
   "outputs": [
    {
     "data": {
      "image/png": "[encoded data removed]",
      "text/plain": [
       "<Figure size 1000x500 with 1 Axes>"
      ]
     },
     "metadata": {},
     "output_type": "display_data"
    }
   ],
   "source": [
    "# Fraud Distribution by Transaction Type\n",
    "plt.figure(figsize=(10, 5))\n",
    "sns.countplot(data=df[df['isFraud'] == 1], x='type', order=df['type'].value_counts().index)\n",
    "plt.title('Fraudulent Transactions by Type')\n",
    "plt.xticks(rotation=45)\n",
    "plt.tight_layout()\n",
    "plt.show()"
   ]
  },
  {
   "cell_type": "markdown",
   "metadata": {},
   "source": [
    "### 3. **Fraud Distribution by Transaction Type**\n",
    "- All fraudulent activity occurs within:\n",
    "  - `CASH_OUT`\n",
    "  - `TRANSFER`\n",
    "- Other types (`PAYMENT`, `CASH_IN`, `DEBIT`) show **zero fraud cases**.\n",
    "\n",
    "**💡For real-time fraud prevention, only transactions of type `CASH_OUT` and `TRANSFER` need monitoring for fraud.**"
   ]
  },
  {
   "cell_type": "code",
   "execution_count": 59,
   "metadata": {},
   "outputs": [
    {
     "data": {
      "image/png": "[encoded data removed]",
      "text/plain": [
       "<Figure size 1000x600 with 1 Axes>"
      ]
     },
     "metadata": {},
     "output_type": "display_data"
    }
   ],
   "source": [
    "# Boxplot: Amount by Fraud Label\n",
    "plt.figure(figsize=(10, 6))\n",
    "sns.boxplot(data=df[df['amount'] < 50000], x='isFraud', y='amount')\n",
    "plt.title('Transaction Amounts (Filtered) by Fraud Label')\n",
    "plt.xticks([0, 1], ['Non-Fraud', 'Fraud'])\n",
    "plt.tight_layout()\n",
    "plt.show()"
   ]
  },
  {
   "cell_type": "markdown",
   "metadata": {},
   "source": [
    "### 4. **Transaction Amounts by Fraud Label (Boxplot)**\n",
    "- Fraudulent transactions have a **higher median and interquartile range**.\n",
    "- Non-fraud transactions tend to be smaller and more spread out.\n",
    "\n",
    "**💡 Fraudsters tend to **target high-value transactions** — consider stricter policies or alerts for transactions above a certain threshold.**"
   ]
  },
  {
   "cell_type": "code",
   "execution_count": 60,
   "metadata": {},
   "outputs": [
    {
     "data": {
      "text/plain": [
       "Index(['step', 'type', 'amount', 'nameOrig', 'oldbalanceOrg', 'newbalanceOrig',\n",
       "       'nameDest', 'oldbalanceDest', 'newbalanceDest', 'isFraud',\n",
       "       'isFlaggedFraud', 'balanceDiffOrig', 'balanceDiffDest'],\n",
       "      dtype='object')"
      ]
     },
     "execution_count": 60,
     "metadata": {},
     "output_type": "execute_result"
    }
   ],
   "source": [
    "df.columns"
   ]
  },
  {
   "cell_type": "code",
   "execution_count": 61,
   "metadata": {},
   "outputs": [
    {
     "data": {
      "image/png": "[encoded data removed]",
      "text/plain": [
       "<Figure size 800x600 with 2 Axes>"
      ]
     },
     "metadata": {},
     "output_type": "display_data"
    }
   ],
   "source": [
    "# Correlation Analysis\n",
    "corr_cols = ['amount', 'oldbalanceOrg', 'newbalanceOrig', 'oldbalanceDest', 'newbalanceDest', 'isFraud']\n",
    "corr_matrix = df[corr_cols].corr()\n",
    "plt.figure(figsize=(8, 6))\n",
    "sns.heatmap(corr_matrix, annot=True, cmap='coolwarm', fmt=\".2f\")\n",
    "plt.title('Correlation Matrix')\n",
    "plt.tight_layout()\n",
    "plt.show()"
   ]
  },
  {
   "cell_type": "markdown",
   "metadata": {},
   "source": [
    "### 5. **Correlation Matrix (Raw Features)**\n",
    "- `isFraud` has **very weak correlation** with all numerical features.\n",
    "- High correlation exists only between `oldbalanceDest` and `newbalanceDest`.\n",
    "\n",
    "**💡 Raw features alone may not be predictive of fraud. **Feature engineering is essential** to uncover meaningful fraud patterns.**"
   ]
  },
  {
   "cell_type": "code",
   "execution_count": 62,
   "metadata": {},
   "outputs": [
    {
     "name": "stdout",
     "output_type": "stream",
     "text": [
      "\n",
      "🚨 Fraud Rate in Dataset: 0.1291%\n"
     ]
    }
   ],
   "source": [
    "# Fraud Rate\n",
    "fraud_rate = df['isFraud'].sum() / len(df) * 100\n",
    "print(f\"\\n🚨 Fraud Rate in Dataset: {fraud_rate:.4f}%\")"
   ]
  },
  {
   "cell_type": "code",
   "execution_count": 63,
   "metadata": {},
   "outputs": [
    {
     "name": "stdout",
     "output_type": "stream",
     "text": [
      "\n",
      "🧾 Confusion Matrix (Actual vs Flagged):\n"
     ]
    },
    {
     "data": {
      "application/vnd.microsoft.datawrangler.viewer.v0+json": {
       "columns": [
        {
         "name": "Actual",
         "rawType": "int64",
         "type": "integer"
        },
        {
         "name": "0",
         "rawType": "int64",
         "type": "integer"
        },
        {
         "name": "1",
         "rawType": "int64",
         "type": "integer"
        }
       ],
       "conversionMethod": "pd.DataFrame",
       "ref": "0d8affab-97b7-4782-adbe-afb8ef751d84",
       "rows": [
        [
         "0",
         "6354407",
         "0"
        ],
        [
         "1",
         "8197",
         "16"
        ]
       ],
       "shape": {
        "columns": 2,
        "rows": 2
       }
      },
      "text/html": [
       "<div>\n",
       "<style scoped>\n",
       "    .dataframe tbody tr th:only-of-type {\n",
       "        vertical-align: middle;\n",
       "    }\n",
       "\n",
       "    .dataframe tbody tr th {\n",
       "        vertical-align: top;\n",
       "    }\n",
       "\n",
       "    .dataframe thead th {\n",
       "        text-align: right;\n",
       "    }\n",
       "</style>\n",
       "<table border=\"1\" class=\"dataframe\">\n",
       "  <thead>\n",
       "    <tr style=\"text-align: right;\">\n",
       "      <th>Flagged</th>\n",
       "      <th>0</th>\n",
       "      <th>1</th>\n",
       "    </tr>\n",
       "    <tr>\n",
       "      <th>Actual</th>\n",
       "      <th></th>\n",
       "      <th></th>\n",
       "    </tr>\n",
       "  </thead>\n",
       "  <tbody>\n",
       "    <tr>\n",
       "      <th>0</th>\n",
       "      <td>6354407</td>\n",
       "      <td>0</td>\n",
       "    </tr>\n",
       "    <tr>\n",
       "      <th>1</th>\n",
       "      <td>8197</td>\n",
       "      <td>16</td>\n",
       "    </tr>\n",
       "  </tbody>\n",
       "</table>\n",
       "</div>"
      ],
      "text/plain": [
       "Flagged        0   1\n",
       "Actual              \n",
       "0        6354407   0\n",
       "1           8197  16"
      ]
     },
     "execution_count": 63,
     "metadata": {},
     "output_type": "execute_result"
    }
   ],
   "source": [
    "# Flagged but not Fraud and vice versa\n",
    "conf_matrix = pd.crosstab(df['isFraud'], df['isFlaggedFraud'], rownames=['Actual'], colnames=['Flagged'])\n",
    "print(\"\\n🧾 Confusion Matrix (Actual vs Flagged):\")\n",
    "conf_matrix.head()"
   ]
  },
  {
   "cell_type": "code",
   "execution_count": 64,
   "metadata": {},
   "outputs": [
    {
     "name": "stdout",
     "output_type": "stream",
     "text": [
      "\n",
      "🧩 Fraud Rate by Transaction Type:\n",
      "            count   sum  fraud_rate_%\n",
      "type                                 \n",
      "TRANSFER   532909  4097          0.77\n",
      "CASH_OUT  2237500  4116          0.18\n",
      "CASH_IN   1399284     0          0.00\n",
      "DEBIT       41432     0          0.00\n",
      "PAYMENT   2151495     0          0.00\n"
     ]
    }
   ],
   "source": [
    "# Fraud rate per transaction type: Fraud Proportion per Transaction Type\n",
    "fraud_by_type = df.groupby('type')['isFraud'].agg(['count', 'sum'])\n",
    "fraud_by_type['fraud_rate_%'] = (fraud_by_type['sum'] / fraud_by_type['count']) * 100\n",
    "print(\"\\n🧩 Fraud Rate by Transaction Type:\")\n",
    "print(fraud_by_type.sort_values(by='fraud_rate_%', ascending=False))\n"
   ]
  },
  {
   "cell_type": "code",
   "execution_count": 65,
   "metadata": {},
   "outputs": [
    {
     "data": {
      "image/png": "[encoded data removed]",
      "text/plain": [
       "<Figure size 1000x500 with 1 Axes>"
      ]
     },
     "metadata": {},
     "output_type": "display_data"
    }
   ],
   "source": [
    "\n",
    "# Log-transform to deal with skew: Amount Distribution (Log Scale for better visibility)\n",
    "df['log_amount'] = np.log1p(df['amount'])\n",
    "\n",
    "plt.figure(figsize=(10, 5))\n",
    "sns.histplot(data=df, x='log_amount', hue='isFraud', bins=100, kde=True, palette=\"coolwarm\", element=\"step\", stat=\"density\", common_norm=False)\n",
    "plt.title('Log(Transaction Amount) Distribution: Fraud vs Non-Fraud')\n",
    "plt.tight_layout()\n",
    "plt.show()\n"
   ]
  },
  {
   "cell_type": "markdown",
   "metadata": {},
   "source": [
    "### 6. **Log(Transaction Amount) Distribution**\n",
    "- After log transformation, it’s clear that:\n",
    "  - Fraudulent transactions are more concentrated in **higher amount ranges**.\n",
    "  - Non-fraudulent transactions are generally lower in value.\n",
    "\n",
    "**💡 Applying a log transformation helps **normalize skewed distributions** and enhances visibility into suspicious patterns.**"
   ]
  },
  {
   "cell_type": "code",
   "execution_count": 66,
   "metadata": {},
   "outputs": [
    {
     "name": "stdout",
     "output_type": "stream",
     "text": [
      "\n",
      "💰 High-Value Transactions > 200000:\n",
      "Total: 1673570, Fraudulent: 5471 (0.33%)\n"
     ]
    }
   ],
   "source": [
    "# Define high value threshold: High-Value Transaction Fraud Rates\n",
    "high_value_thresh = 200000\n",
    "high_value_txns = df[df['amount'] > high_value_thresh]\n",
    "\n",
    "fraud_high_value = high_value_txns['isFraud'].sum()\n",
    "total_high_value = len(high_value_txns)\n",
    "\n",
    "print(f\"\\n💰 High-Value Transactions > {high_value_thresh}:\")\n",
    "print(f\"Total: {total_high_value}, Fraudulent: {fraud_high_value} ({(fraud_high_value / total_high_value) * 100:.2f}%)\")\n"
   ]
  },
  {
   "cell_type": "code",
   "execution_count": 67,
   "metadata": {},
   "outputs": [
    {
     "name": "stdout",
     "output_type": "stream",
     "text": [
      "\n",
      "🔁 Repeat Fraudulent Customers (nameOrig):\n",
      "Series([], Name: count, dtype: int64)\n"
     ]
    }
   ],
   "source": [
    "# Fraudulent origin accounts: Repeated Offenders (Customers doing multiple frauds)\n",
    "fraud_orig_counts = df[df['isFraud'] == 1]['nameOrig'].value_counts()\n",
    "repeated_frauds = fraud_orig_counts[fraud_orig_counts > 1]\n",
    "\n",
    "print(\"\\n🔁 Repeat Fraudulent Customers (nameOrig):\")\n",
    "print(repeated_frauds)\n"
   ]
  },
  {
   "cell_type": "code",
   "execution_count": 68,
   "metadata": {},
   "outputs": [
    {
     "name": "stdout",
     "output_type": "stream",
     "text": [
      "\n",
      "🚩 Zero Balance Accounts involved in Fraud: 41\n",
      "            type     amount     nameOrig    nameDest\n",
      "724     CASH_OUT  416001.33   C749981943  C667346055\n",
      "14861   CASH_OUT  181728.11  C2102265902  C789014007\n",
      "25875   TRANSFER 1078013.76  C1026280121  C277510102\n",
      "77745   CASH_OUT  277970.88   C489647033  C571514738\n",
      "138559  TRANSFER 1933920.80  C1706582969  C461905695\n"
     ]
    }
   ],
   "source": [
    "#Account Balance Red Flags (Orig = 0 → suspicious)\n",
    "zero_balance_frauds = df[(df['oldbalanceOrg'] == 0) & (df['newbalanceOrig'] == 0) & (df['isFraud'] == 1)]\n",
    "\n",
    "print(f\"\\n🚩 Zero Balance Accounts involved in Fraud: {len(zero_balance_frauds)}\")\n",
    "print(zero_balance_frauds[['type', 'amount', 'nameOrig', 'nameDest']].head())\n"
   ]
  },
  {
   "cell_type": "code",
   "execution_count": null,
   "metadata": {},
   "outputs": [
    {
     "name": "stdout",
     "output_type": "stream",
     "text": [
      "Fraud by customer origins: 8213\n",
      "Fraud by customer destinations: 8213\n"
     ]
    }
   ],
   "source": [
    "# Who tends to initiate fraud more  is it the origins or destinations?\n",
    "fraud_orig_type = df[df['isFraud'] == 1]['nameOrig'].str.startswith('C').sum()\n",
    "fraud_dest_type = df[df['isFraud'] == 1]['nameDest'].str.startswith('C').sum()\n",
    "\n",
    "print(f\"Fraud by customer origins: {fraud_orig_type}\")\n",
    "print(f\"Fraud by customer destinations: {fraud_dest_type}\")\n"
   ]
  },
  {
   "cell_type": "code",
   "execution_count": 70,
   "metadata": {},
   "outputs": [
    {
     "name": "stdout",
     "output_type": "stream",
     "text": [
      "\n",
      "🎯 Potential Drop Accounts (fraud + 0 balance before): 1234\n",
      "          type     amount     nameOrig     nameDest\n",
      "1911  CASH_OUT  132842.64    C13692003   C297927961\n",
      "2302  CASH_OUT  235238.66  C1499825229  C2100440237\n",
      "3060  CASH_OUT 1096187.24    C77163673   C644345897\n",
      "4104  CASH_OUT   10539.37  C1984954272   C124540047\n",
      "4261  CASH_OUT   22877.00  C2126545173   C573200870\n"
     ]
    }
   ],
   "source": [
    "# See if money was moved to a destination with 0 balance, i.e., potential drop account\n",
    "drop_accounts = df[(df['isFraud'] == 1) & (df['oldbalanceDest'] == 0) & (df['newbalanceDest'] == df['amount'])]\n",
    "print(f\"\\n🎯 Potential Drop Accounts (fraud + 0 balance before): {len(drop_accounts)}\")\n",
    "print(drop_accounts[['type', 'amount', 'nameOrig', 'nameDest']].head())"
   ]
  },
  {
   "cell_type": "code",
   "execution_count": 71,
   "metadata": {},
   "outputs": [
    {
     "data": {
      "image/png": "[encoded data removed]",
      "text/plain": [
       "<Figure size 1200x500 with 1 Axes>"
      ]
     },
     "metadata": {},
     "output_type": "display_data"
    }
   ],
   "source": [
    "# Patterns based on step\n",
    "fraud_by_step = df.groupby('step')['isFraud'].sum()\n",
    "\n",
    "plt.figure(figsize=(12, 5))\n",
    "sns.lineplot(x=fraud_by_step.index, y=fraud_by_step.values)\n",
    "plt.title(\"Fraud Cases Over Time Steps\")\n",
    "plt.xlabel(\"Time Step\")\n",
    "plt.ylabel(\"Number of Frauds\")\n",
    "plt.grid(True)\n",
    "plt.tight_layout()\n",
    "plt.show()\n"
   ]
  },
  {
   "cell_type": "code",
   "execution_count": 72,
   "metadata": {},
   "outputs": [
    {
     "name": "stdout",
     "output_type": "stream",
     "text": [
      "\n",
      "📈 Fraud Rate by Amount Bin:\n",
      "amount_bin\n",
      "(1000000, 5000000]   1.65\n",
      "(500000, 1000000]    0.55\n",
      "(100000, 500000]     0.11\n",
      "(50000, 100000]      0.09\n",
      "(10000, 50000]       0.05\n",
      "(100, 1000]          0.03\n",
      "(1000, 10000]        0.02\n",
      "(0, 100]             0.01\n",
      "Name: isFraud, dtype: float64\n"
     ]
    }
   ],
   "source": [
    "#  Fraud Rate by Amount Bin\n",
    "df['amount_bin'] = pd.cut(df['amount'], bins=[0, 100, 1000, 10000, 50000, 100000, 500000, 1000000, 5000000])\n",
    "fraud_by_amount_bin = df.groupby('amount_bin')['isFraud'].mean() * 100\n",
    "\n",
    "print(\"\\n📈 Fraud Rate by Amount Bin:\")\n",
    "print(fraud_by_amount_bin.sort_values(ascending=False))\n"
   ]
  },
  {
   "cell_type": "code",
   "execution_count": 73,
   "metadata": {},
   "outputs": [
    {
     "name": "stdout",
     "output_type": "stream",
     "text": [
      "\n",
      "📛 Most Targeted Destination Accounts:\n",
      "nameDest\n",
      "C1193568854    2\n",
      "C104038589     2\n",
      "C200064275     2\n",
      "C1497532505    2\n",
      "C1601170327    2\n",
      "C1655359478    2\n",
      "C2020337583    2\n",
      "C1653587362    2\n",
      "C1013511446    2\n",
      "C2129197098    2\n",
      "Name: count, dtype: int64\n"
     ]
    }
   ],
   "source": [
    "# Top 10 Fraudulent Destination Accounts\n",
    "fraud_dest_counts = df[df['isFraud'] == 1]['nameDest'].value_counts().head(10)\n",
    "print(\"\\n📛 Most Targeted Destination Accounts:\")\n",
    "print(fraud_dest_counts)\n"
   ]
  },
  {
   "cell_type": "markdown",
   "metadata": {},
   "source": [
    "### ✅ Overall EDA Takeaways\n",
    "| Theme                     | Insight                                                                 |\n",
    "|---------------------------|-------------------------------------------------------------------------|\n",
    "| Class Imbalance           | Fraud is rare — impacts model training                                 |\n",
    "| Transaction Type Focus    | Fraud only occurs in `CASH_OUT` and `TRANSFER`                         |\n",
    "| Value-Based Risk          | Higher amounts are riskier — fraud tends to involve large transactions |\n",
    "| Data Quality              | Raw features are not predictive enough on their own                    |\n",
    "| Engineering Needed        | Derived features (behavioral, balance changes) are crucial             |"
   ]
  },
  {
   "cell_type": "code",
   "execution_count": 75,
   "metadata": {},
   "outputs": [
    {
     "name": "stdout",
     "output_type": "stream",
     "text": [
      "\n",
      "💾 Processed dataset with new features exported as 'processed_fraud_data.csv'\n"
     ]
    }
   ],
   "source": [
    "#df.to_csv(\"processed_online_fraud_data.csv\", index=False)\n",
    "print(\"\\n💾 Processed dataset with new features exported as 'processed_fraud_data.csv'\")\n"
   ]
  }
 ],
 "metadata": {
  "kernelspec": {
   "display_name": "diabetes",
   "language": "python",
   "name": "python3"
  },
  "language_info": {
   "codemirror_mode": {
    "name": "ipython",
    "version": 3
   },
   "file_extension": ".py",
   "mimetype": "text/x-python",
   "name": "python",
   "nbconvert_exporter": "python",
   "pygments_lexer": "ipython3",
   "version": "3.8.0"
  }
 },
 "nbformat": 4,
 "nbformat_minor": 2
}
